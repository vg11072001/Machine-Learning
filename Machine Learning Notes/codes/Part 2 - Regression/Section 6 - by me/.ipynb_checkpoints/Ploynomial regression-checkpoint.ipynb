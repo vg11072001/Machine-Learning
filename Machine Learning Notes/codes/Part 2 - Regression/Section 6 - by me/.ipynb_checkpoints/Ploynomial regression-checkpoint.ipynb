{
 "cells": [
  {
   "cell_type": "markdown",
   "id": "75adb69d",
   "metadata": {},
   "source": [
    "# Polynomial Regression"
   ]
  },
  {
   "cell_type": "markdown",
   "id": "1118115b",
   "metadata": {},
   "source": [
    "## Importing the librabries"
   ]
  },
  {
   "cell_type": "code",
   "execution_count": null,
   "id": "eadd7b76",
   "metadata": {},
   "outputs": [],
   "source": []
  },
  {
   "cell_type": "markdown",
   "id": "61a36c80",
   "metadata": {},
   "source": [
    "## Importing the dataset"
   ]
  },
  {
   "cell_type": "code",
   "execution_count": null,
   "id": "2e688e50",
   "metadata": {},
   "outputs": [],
   "source": []
  },
  {
   "cell_type": "markdown",
   "id": "b2604ab0",
   "metadata": {},
   "source": [
    "## Importing the dataset"
   ]
  },
  {
   "cell_type": "markdown",
   "id": "9b0092e0",
   "metadata": {},
   "source": [
    "## Training the Linear Regresssion model on the dataset"
   ]
  },
  {
   "cell_type": "markdown",
   "id": "6d88615b",
   "metadata": {},
   "source": [
    "## Training the Polynomial Regresssion model on the dataset"
   ]
  },
  {
   "cell_type": "code",
   "execution_count": null,
   "id": "656cecef",
   "metadata": {},
   "outputs": [],
   "source": []
  },
  {
   "cell_type": "markdown",
   "id": "a21b41a5",
   "metadata": {},
   "source": [
    "## Visualising the Linear Regression results"
   ]
  },
  {
   "cell_type": "markdown",
   "id": "87a1bafb",
   "metadata": {},
   "source": [
    "## Visualising the Polynomial Regression results¶"
   ]
  },
  {
   "cell_type": "markdown",
   "id": "156aa552",
   "metadata": {},
   "source": [
    "## Visualising the Polynomial Regression results(for higher resolution and smoother curve)¶"
   ]
  },
  {
   "cell_type": "markdown",
   "id": "960c82fa",
   "metadata": {},
   "source": [
    "## Predicting a new result with linear Regression"
   ]
  },
  {
   "cell_type": "markdown",
   "id": "c1d62028",
   "metadata": {},
   "source": [
    "## Predicting a new result with Polynomial Regression"
   ]
  }
 ],
 "metadata": {
  "hide_input": false,
  "kernelspec": {
   "display_name": "Python 3 (ipykernel)",
   "language": "python",
   "name": "python3"
  },
  "language_info": {
   "codemirror_mode": {
    "name": "ipython",
    "version": 3
   },
   "file_extension": ".py",
   "mimetype": "text/x-python",
   "name": "python",
   "nbconvert_exporter": "python",
   "pygments_lexer": "ipython3",
   "version": "3.9.7"
  },
  "toc": {
   "base_numbering": 1,
   "nav_menu": {},
   "number_sections": true,
   "sideBar": true,
   "skip_h1_title": false,
   "title_cell": "Table of Contents",
   "title_sidebar": "Contents",
   "toc_cell": false,
   "toc_position": {},
   "toc_section_display": true,
   "toc_window_display": false
  }
 },
 "nbformat": 4,
 "nbformat_minor": 5
}
