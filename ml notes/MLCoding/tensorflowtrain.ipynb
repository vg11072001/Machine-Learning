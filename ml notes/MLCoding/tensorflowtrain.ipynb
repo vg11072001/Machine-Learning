{
 "cells": [
  {
   "cell_type": "code",
   "execution_count": 1,
   "metadata": {},
   "outputs": [],
   "source": [
    "import tensorflow as tf\n",
    "from tensorflow.keras.preprocessing.image import ImageDataGenerator\n"
   ]
  },
  {
   "cell_type": "code",
   "execution_count": 4,
   "metadata": {},
   "outputs": [
    {
     "data": {
      "text/plain": [
       "'2.18.0'"
      ]
     },
     "execution_count": 4,
     "metadata": {},
     "output_type": "execute_result"
    }
   ],
   "source": [
    "import tensorflow\n",
    "tensorflow.__version__"
   ]
  },
  {
   "cell_type": "code",
   "execution_count": 9,
   "metadata": {},
   "outputs": [
    {
     "data": {
      "text/plain": [
       "'1.26.4'"
      ]
     },
     "execution_count": 9,
     "metadata": {},
     "output_type": "execute_result"
    }
   ],
   "source": [
    "import numpy\n",
    "numpy.__version__"
   ]
  },
  {
   "cell_type": "code",
   "execution_count": 30,
   "metadata": {},
   "outputs": [
    {
     "name": "stdout",
     "output_type": "stream",
     "text": [
      "PyTorch argmin result: 1\n",
      "TensorFlow argmin result: 0\n",
      "Keras argmin result: 0\n",
      "\n",
      "Summary of results:\n",
      "PyTorch argmin: 1,, 3\n",
      "TensorFlow argmin: 0,,0\n",
      "Keras argmin: 0,,0\n"
     ]
    }
   ],
   "source": [
    "import torch\n",
    "import tensorflow as tf\n",
    "import numpy as np\n",
    "import tensorflow.keras.backend as K\n",
    "\n",
    "# Input data    [0,     1                 ,         2,               3,     4,       5   ]\n",
    "input_data = [ 0.0, -1.401298464324817e-45, 0.0, 1e-40 , 1.401298464324817e-45]\n",
    "\n",
    "# Test PyTorch\n",
    "def test_pytorch_argmin(input_data):\n",
    "    tensor = torch.tensor(input_data, dtype=torch.float32)\n",
    "    result = torch.argmin(tensor).item()\n",
    "    result1 = torch.argmax(tensor).item()\n",
    "    \n",
    "    print(f\"PyTorch argmin result: {result}\")\n",
    "    return result, result1\n",
    "\n",
    "# Test TensorFlow\n",
    "def test_tensorflow_argmin(input_data):\n",
    "    tensor = tf.constant(input_data, dtype=tf.float32)\n",
    "    result = tf.argmin(tensor).numpy()\n",
    "    result1 = tf.argmax(tensor).numpy()\n",
    "    \n",
    "    print(f\"TensorFlow argmin result: {result}\")\n",
    "    return result, result1\n",
    "\n",
    "# Test Keras using backend\n",
    "def test_keras_argmin(input_data):\n",
    "    tensor = K.constant(input_data, dtype=tf.float32)\n",
    "    result = K.argmin(tensor, axis=-1).numpy()\n",
    "    result1 = K.argmax(tensor, axis=-1).numpy()\n",
    "    \n",
    "    print(f\"Keras argmin result: {result}\")\n",
    "    return result, result1\n",
    "\n",
    "if __name__ == \"__main__\":\n",
    "    pytorch_result, pytorch_result1 = test_pytorch_argmin(input_data)\n",
    "    tensorflow_result, tensorflow_result1 = test_tensorflow_argmin(input_data)\n",
    "    keras_result, keras_result1 = test_keras_argmin(input_data)\n",
    "    # jax_result = test_jax_argmin(input_data)\n",
    "\n",
    "    print(\"\\nSummary of results:\")\n",
    "    print(f\"PyTorch argmin: {pytorch_result},, {pytorch_result1}\")\n",
    "    print(f\"TensorFlow argmin: {tensorflow_result},,{tensorflow_result1}\")\n",
    "    print(f\"Keras argmin: {keras_result},,{keras_result1}\")"
   ]
  },
  {
   "cell_type": "code",
   "execution_count": 32,
   "metadata": {},
   "outputs": [
    {
     "name": "stdout",
     "output_type": "stream",
     "text": [
      "0\n"
     ]
    }
   ],
   "source": [
    "import tensorflow as tf\n",
    "a = [ 0.0, -1.401298464324817e-45, 0.0, 1e-40 , 1.401298464324817e-45]\n",
    "b = tf.math.argmin(input = a)\n",
    "c = tf.keras.backend.eval(b)\n",
    "# c = 0\n",
    "# here a[0] = 1 which is the smallest element of a across axis 0\n",
    "print(c)"
   ]
  },
  {
   "cell_type": "code",
   "execution_count": null,
   "metadata": {},
   "outputs": [],
   "source": []
  }
 ],
 "metadata": {
  "kernelspec": {
   "display_name": "base",
   "language": "python",
   "name": "python3"
  },
  "language_info": {
   "codemirror_mode": {
    "name": "ipython",
    "version": 3
   },
   "file_extension": ".py",
   "mimetype": "text/x-python",
   "name": "python",
   "nbconvert_exporter": "python",
   "pygments_lexer": "ipython3",
   "version": "3.12.4"
  }
 },
 "nbformat": 4,
 "nbformat_minor": 2
}
