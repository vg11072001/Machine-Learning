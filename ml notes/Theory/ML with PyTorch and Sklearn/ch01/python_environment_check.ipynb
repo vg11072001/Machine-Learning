{
 "cells": [
  {
   "cell_type": "code",
   "execution_count": 1,
   "id": "542cc269-23dc-4fc8-a187-059d8fade2cc",
   "metadata": {},
   "outputs": [
    {
     "name": "stdout",
     "output_type": "stream",
     "text": [
      "[OK] Your Python version is 3.9.6 | packaged by conda-forge | (default, Jul 11 2021, 03:35:11) \n",
      "[Clang 11.1.0 ]\n",
      "[OK] numpy 1.21.2\n",
      "[OK] scipy 1.7.0\n",
      "[OK] matplotlib 3.4.3\n",
      "[OK] sklearn 1.0\n",
      "[OK] pandas 1.3.2\n"
     ]
    }
   ],
   "source": []
  },
  {
   "cell_type": "code",
   "execution_count": null,
   "id": "826a153a-521a-45aa-9e71-b7228aa0e16d",
   "metadata": {},
   "outputs": [],
   "source": []
  }
 ],
 "metadata": {
  "kernelspec": {
   "display_name": "Python 3 (ipykernel)",
   "language": "python",
   "name": "python3"
  },
  "language_info": {
   "codemirror_mode": {
    "name": "ipython",
    "version": 3
   },
   "file_extension": ".py",
   "mimetype": "text/x-python",
   "name": "python",
   "nbconvert_exporter": "python",
   "pygments_lexer": "ipython3",
   "version": "3.9.6"
  }
 },
 "nbformat": 4,
 "nbformat_minor": 5
}
