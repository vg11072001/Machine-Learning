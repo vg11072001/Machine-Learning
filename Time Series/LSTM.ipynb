{
  "nbformat": 4,
  "nbformat_minor": 0,
  "metadata": {
    "colab": {
      "provenance": [],
      "include_colab_link": true
    },
    "kernelspec": {
      "name": "python3",
      "display_name": "Python 3"
    },
    "accelerator": "GPU"
  },
  "cells": [
    {
      "cell_type": "markdown",
      "metadata": {
        "id": "view-in-github",
        "colab_type": "text"
      },
      "source": [
        "<a href=\"https://colab.research.google.com/github/vg11072001/Machine-Learning/blob/main/Time%20Series/LSTM.ipynb\" target=\"_parent\"><img src=\"https://colab.research.google.com/assets/colab-badge.svg\" alt=\"Open In Colab\"/></a>"
      ]
    },
    {
      "cell_type": "code",
      "metadata": {
        "id": "2zUjhYQHfTmA",
        "outputId": "14bb64aa-1d66-4a5b-d37a-7f3cdf550440",
        "colab": {
          "base_uri": "https://localhost:8080/",
          "height": 33
        }
      },
      "source": [
        "from keras.layers.core import Dense, Activation, Dropout\n",
        "from keras.layers.recurrent import LSTM\n",
        "from keras.models import Sequential\n",
        "import time #helper libraries"
      ],
      "execution_count": null,
      "outputs": [
        {
          "output_type": "stream",
          "text": [
            "Using TensorFlow backend.\n"
          ],
          "name": "stderr"
        }
      ]
    },
    {
      "cell_type": "markdown",
      "metadata": {
        "id": "UJ0jimOSaLx0"
      },
      "source": [
        "**WHY USE LSTM? Is it good to predict re-occuring data?I didn't get great results from the 1st notebook and decided to try to predict stock price movements by giving in stock price movements instead of just simple stock prices as input**\n",
        "\n",
        "\n",
        "**In this notebook I normalized only the closing prices and then broke it into train and test datasets. I just kept a simple lookback window to give all similar data same movement(movement is just giving the data points the same kind of normalization) and put them in price points as input**\n",
        "\n"
      ]
    },
    {
      "cell_type": "code",
      "metadata": {
        "id": "Uwk3PeSUGDk3"
      },
      "source": [
        "# Code to read csv file into Colaboratory:\n",
        "!pip install -U -q PyDrive\n",
        "from pydrive.auth import GoogleAuth\n",
        "from pydrive.drive import GoogleDrive\n",
        "from google.colab import auth\n",
        "from oauth2client.client import GoogleCredentials\n",
        "# Authenticate and create the PyDrive client.\n",
        "auth.authenticate_user()\n",
        "gauth = GoogleAuth()\n",
        "gauth.credentials = GoogleCredentials.get_application_default()\n",
        "drive = GoogleDrive(gauth)"
      ],
      "execution_count": null,
      "outputs": []
    },
    {
      "cell_type": "code",
      "metadata": {
        "id": "ctysdd5cJzV4"
      },
      "source": [
        "link = 'https://drive.google.com/open?id=1y394o-wiPqYPaWzVYTPRr8xpE_aM9621'"
      ],
      "execution_count": null,
      "outputs": []
    },
    {
      "cell_type": "code",
      "metadata": {
        "id": "_RCOZpTdND1z",
        "outputId": "bfbfde48-e1ef-4d96-9ce5-501bf8a86e8c",
        "colab": {
          "base_uri": "https://localhost:8080/",
          "height": 35
        }
      },
      "source": [
        "fluff, id = link.split('=')\n",
        "print (id) # Verify that you have everything after '='"
      ],
      "execution_count": null,
      "outputs": [
        {
          "output_type": "stream",
          "text": [
            "1y394o-wiPqYPaWzVYTPRr8xpE_aM9621\n"
          ],
          "name": "stdout"
        }
      ]
    },
    {
      "cell_type": "code",
      "metadata": {
        "id": "hyxINN1tNEqW",
        "outputId": "f7af8116-ef78-4e2f-fe41-46e886e800b8",
        "colab": {
          "base_uri": "https://localhost:8080/",
          "height": 532
        }
      },
      "source": [
        "import pandas as pd\n",
        "downloaded = drive.CreateFile({'id':id})\n",
        "downloaded.GetContentFile('AMZN.csv')\n",
        "df3 = pd.read_csv('AMZN.csv')\n",
        "# Dataset is now stored in a Pandas Dataframe"
      ],
      "execution_count": null,
      "outputs": [
        {
          "output_type": "stream",
          "text": [
            "WARNING: Logging before flag parsing goes to stderr.\n",
            "W0812 17:46:22.876577 140683407243136 __init__.py:44] file_cache is unavailable when using oauth2client >= 4.0.0 or google-auth\n",
            "Traceback (most recent call last):\n",
            "  File \"/usr/local/lib/python3.6/dist-packages/googleapiclient/discovery_cache/__init__.py\", line 36, in autodetect\n",
            "    from google.appengine.api import memcache\n",
            "ModuleNotFoundError: No module named 'google.appengine'\n",
            "\n",
            "During handling of the above exception, another exception occurred:\n",
            "\n",
            "Traceback (most recent call last):\n",
            "  File \"/usr/local/lib/python3.6/dist-packages/googleapiclient/discovery_cache/file_cache.py\", line 33, in <module>\n",
            "    from oauth2client.contrib.locked_file import LockedFile\n",
            "ModuleNotFoundError: No module named 'oauth2client.contrib.locked_file'\n",
            "\n",
            "During handling of the above exception, another exception occurred:\n",
            "\n",
            "Traceback (most recent call last):\n",
            "  File \"/usr/local/lib/python3.6/dist-packages/googleapiclient/discovery_cache/file_cache.py\", line 37, in <module>\n",
            "    from oauth2client.locked_file import LockedFile\n",
            "ModuleNotFoundError: No module named 'oauth2client.locked_file'\n",
            "\n",
            "During handling of the above exception, another exception occurred:\n",
            "\n",
            "Traceback (most recent call last):\n",
            "  File \"/usr/local/lib/python3.6/dist-packages/googleapiclient/discovery_cache/__init__.py\", line 41, in autodetect\n",
            "    from . import file_cache\n",
            "  File \"/usr/local/lib/python3.6/dist-packages/googleapiclient/discovery_cache/file_cache.py\", line 41, in <module>\n",
            "    'file_cache is unavailable when using oauth2client >= 4.0.0 or google-auth')\n",
            "ImportError: file_cache is unavailable when using oauth2client >= 4.0.0 or google-auth\n"
          ],
          "name": "stderr"
        }
      ]
    },
    {
      "cell_type": "code",
      "metadata": {
        "id": "TKqVdqkHNPEq"
      },
      "source": [
        "#VANILLA LSTM NETWORK CREATED:"
      ],
      "execution_count": null,
      "outputs": []
    },
    {
      "cell_type": "code",
      "metadata": {
        "id": "biH6rwhyOAAm"
      },
      "source": [
        "from keras.layers.core import Dense, Activation, Dropout\n",
        "from keras.layers.recurrent import LSTM\n",
        "from keras.models import Sequential\n",
        "import time #helper libraries"
      ],
      "execution_count": null,
      "outputs": []
    },
    {
      "cell_type": "code",
      "metadata": {
        "id": "OtRzd9-IOB8L"
      },
      "source": [
        "df3 = df3.dropna(axis = \"columns\")"
      ],
      "execution_count": null,
      "outputs": []
    },
    {
      "cell_type": "code",
      "metadata": {
        "id": "77Me2RVdPMy6",
        "outputId": "23fb53a8-458a-4d08-fe65-692c429362a1",
        "colab": {
          "base_uri": "https://localhost:8080/",
          "height": 194
        }
      },
      "source": [
        "df3.head()"
      ],
      "execution_count": null,
      "outputs": [
        {
          "output_type": "execute_result",
          "data": {
            "text/html": [
              "<div>\n",
              "<style scoped>\n",
              "    .dataframe tbody tr th:only-of-type {\n",
              "        vertical-align: middle;\n",
              "    }\n",
              "\n",
              "    .dataframe tbody tr th {\n",
              "        vertical-align: top;\n",
              "    }\n",
              "\n",
              "    .dataframe thead th {\n",
              "        text-align: right;\n",
              "    }\n",
              "</style>\n",
              "<table border=\"1\" class=\"dataframe\">\n",
              "  <thead>\n",
              "    <tr style=\"text-align: right;\">\n",
              "      <th></th>\n",
              "      <th>Date</th>\n",
              "      <th>Open</th>\n",
              "      <th>High</th>\n",
              "      <th>Low</th>\n",
              "      <th>Adj Close</th>\n",
              "      <th>Volume</th>\n",
              "      <th>Close</th>\n",
              "    </tr>\n",
              "  </thead>\n",
              "  <tbody>\n",
              "    <tr>\n",
              "      <th>0</th>\n",
              "      <td>1/4/2010</td>\n",
              "      <td>136.250000</td>\n",
              "      <td>136.610001</td>\n",
              "      <td>133.139999</td>\n",
              "      <td>133.899994</td>\n",
              "      <td>7599900</td>\n",
              "      <td>133.899994</td>\n",
              "    </tr>\n",
              "    <tr>\n",
              "      <th>1</th>\n",
              "      <td>1/5/2010</td>\n",
              "      <td>133.429993</td>\n",
              "      <td>135.479996</td>\n",
              "      <td>131.809998</td>\n",
              "      <td>134.690002</td>\n",
              "      <td>8851900</td>\n",
              "      <td>134.690002</td>\n",
              "    </tr>\n",
              "    <tr>\n",
              "      <th>2</th>\n",
              "      <td>1/6/2010</td>\n",
              "      <td>134.600006</td>\n",
              "      <td>134.729996</td>\n",
              "      <td>131.649994</td>\n",
              "      <td>132.250000</td>\n",
              "      <td>7178800</td>\n",
              "      <td>132.250000</td>\n",
              "    </tr>\n",
              "    <tr>\n",
              "      <th>3</th>\n",
              "      <td>1/7/2010</td>\n",
              "      <td>132.009995</td>\n",
              "      <td>132.320007</td>\n",
              "      <td>128.800003</td>\n",
              "      <td>130.000000</td>\n",
              "      <td>11030200</td>\n",
              "      <td>130.000000</td>\n",
              "    </tr>\n",
              "    <tr>\n",
              "      <th>4</th>\n",
              "      <td>1/8/2010</td>\n",
              "      <td>130.559998</td>\n",
              "      <td>133.679993</td>\n",
              "      <td>129.029999</td>\n",
              "      <td>133.520004</td>\n",
              "      <td>9830500</td>\n",
              "      <td>133.520004</td>\n",
              "    </tr>\n",
              "  </tbody>\n",
              "</table>\n",
              "</div>"
            ],
            "text/plain": [
              "       Date        Open        High  ...   Adj Close    Volume       Close\n",
              "0  1/4/2010  136.250000  136.610001  ...  133.899994   7599900  133.899994\n",
              "1  1/5/2010  133.429993  135.479996  ...  134.690002   8851900  134.690002\n",
              "2  1/6/2010  134.600006  134.729996  ...  132.250000   7178800  132.250000\n",
              "3  1/7/2010  132.009995  132.320007  ...  130.000000  11030200  130.000000\n",
              "4  1/8/2010  130.559998  133.679993  ...  133.520004   9830500  133.520004\n",
              "\n",
              "[5 rows x 7 columns]"
            ]
          },
          "metadata": {
            "tags": []
          },
          "execution_count": 9
        }
      ]
    },
    {
      "cell_type": "code",
      "metadata": {
        "id": "1LArM8rQPU6Y"
      },
      "source": [
        "#working with a conventional OHCLV dataset"
      ],
      "execution_count": null,
      "outputs": []
    },
    {
      "cell_type": "code",
      "metadata": {
        "id": "AUI-7-jpPgdJ"
      },
      "source": [
        "import numpy as np"
      ],
      "execution_count": null,
      "outputs": []
    },
    {
      "cell_type": "code",
      "metadata": {
        "id": "gqkI7vdpQB3d"
      },
      "source": [
        "#FOCUS ON PREDICTING CLOSING PRICES AS BEFORE"
      ],
      "execution_count": null,
      "outputs": []
    },
    {
      "cell_type": "code",
      "metadata": {
        "id": "4_eLiOTqSt1p"
      },
      "source": [
        "df_close = df3['Close']"
      ],
      "execution_count": null,
      "outputs": []
    },
    {
      "cell_type": "code",
      "metadata": {
        "id": "CpmyiqPMS6lv",
        "outputId": "61308885-7d53-4fa0-e080-a41f2341b926",
        "colab": {
          "base_uri": "https://localhost:8080/",
          "height": 35
        }
      },
      "source": [
        "df_close.shape"
      ],
      "execution_count": null,
      "outputs": [
        {
          "output_type": "execute_result",
          "data": {
            "text/plain": [
              "(2265,)"
            ]
          },
          "metadata": {
            "tags": []
          },
          "execution_count": 14
        }
      ]
    },
    {
      "cell_type": "code",
      "metadata": {
        "id": "cFX_SbARTFbK"
      },
      "source": [
        "#Reshaping it\n",
        "df_close = df_close.values.reshape(2265,1)"
      ],
      "execution_count": null,
      "outputs": []
    },
    {
      "cell_type": "code",
      "metadata": {
        "id": "-kd1EeAMTShd",
        "outputId": "4aa1e06e-5ee1-451b-f30b-9af5bd8d4825",
        "colab": {
          "base_uri": "https://localhost:8080/",
          "height": 269
        }
      },
      "source": [
        "import matplotlib.pyplot as plt\n",
        "from sklearn.preprocessing import MinMaxScaler\n",
        "\n",
        "#Ploting it\n",
        "plt.plot(df_close)\n",
        "plt.show()\n",
        "\n",
        "scaler = MinMaxScaler(feature_range=(0, 1))\n",
        "df_close = scaler.fit_transform(df_close)\n"
      ],
      "execution_count": null,
      "outputs": [
        {
          "output_type": "display_data",
          "data": {
            "image/png": "[encoded data removed]",
            "text/plain": [
              "<Figure size 432x288 with 1 Axes>"
            ]
          },
          "metadata": {
            "tags": []
          }
        }
      ]
    },
    {
      "cell_type": "code",
      "metadata": {
        "id": "Qwu51GYWUIul",
        "outputId": "9d7265fb-97ea-4a70-fb15-462cddfb0eb9",
        "colab": {
          "base_uri": "https://localhost:8080/",
          "height": 35
        }
      },
      "source": [
        "train_size = int(len(df_close) * 0.80)\n",
        "test_size = len(df_close) - train_size\n",
        "train, test = df_close[0:train_size,:], df_close[train_size:len(df_close),:]\n",
        "print(len(train), len(test))"
      ],
      "execution_count": null,
      "outputs": [
        {
          "output_type": "stream",
          "text": [
            "1812 453\n"
          ],
          "name": "stdout"
        }
      ]
    },
    {
      "cell_type": "markdown",
      "metadata": {
        "id": "Gyaecf7d87tN"
      },
      "source": [
        "**Normalize the values such that prices are reduced to normalized values and I can predict stock movement instead of actual prices**"
      ]
    },
    {
      "cell_type": "code",
      "metadata": {
        "id": "Ria-4F-4V_Xn"
      },
      "source": [
        "# convert an array of values into a dataset matrix\n",
        "def create_dataset(dataset, look_back=1): #keep only similar value data if a data point is too far of the last one jump to the next value\n",
        "\tdataX, dataY = [], []       #put this in data x\n",
        "\tfor i in range(len(dataset)-look_back-1): #let dataY have only output values\n",
        "\t\ta = dataset[i:(i+look_back), 0]\n",
        "\t\tdataX.append(a)\n",
        "\t\tdataY.append(dataset[i + look_back, 0])\n",
        "\treturn np.array(dataX), np.array(dataY)"
      ],
      "execution_count": null,
      "outputs": []
    },
    {
      "cell_type": "code",
      "metadata": {
        "id": "atRqDg15WGbV"
      },
      "source": [
        "# reshape into X=t and Y=t+1\n",
        "look_back = 1\n",
        "trainX, trainY = create_dataset(train, look_back)\n",
        "testX, testY = create_dataset(test, look_back)"
      ],
      "execution_count": null,
      "outputs": []
    },
    {
      "cell_type": "code",
      "metadata": {
        "id": "PVeSyYXXWNlT"
      },
      "source": [
        "trainX = np.reshape(trainX, (trainX.shape[0], 1, trainX.shape[1]))\n",
        "testX = np.reshape(testX, (testX.shape[0], 1, testX.shape[1]))"
      ],
      "execution_count": null,
      "outputs": []
    },
    {
      "cell_type": "code",
      "metadata": {
        "id": "ci3EQtyrWSgh",
        "outputId": "624d22aa-ecde-49b4-c320-c449e50ed8d2",
        "colab": {
          "base_uri": "https://localhost:8080/",
          "height": 141
        }
      },
      "source": [
        "#Step 2 Build Model\n",
        "model = Sequential()\n",
        "\n",
        "model.add(LSTM(\n",
        "    input_dim=1,\n",
        "    output_dim=50,\n",
        "    return_sequences=True))\n",
        "model.add(Dropout(0.2))\n",
        "\n",
        "model.add(LSTM(\n",
        "    100,\n",
        "    return_sequences=False))\n",
        "model.add(Dropout(0.2))\n",
        "\n",
        "model.add(Dense(\n",
        "    output_dim=1))\n",
        "model.add(Activation('relu'))\n",
        "\n",
        "start = time.time()\n",
        "model.compile(loss='mse', optimizer='rmsprop', metrics=['mae'])\n",
        "print ('compilation time : ', time.time() - start)"
      ],
      "execution_count": null,
      "outputs": [
        {
          "output_type": "stream",
          "text": [
            "/usr/local/lib/python3.6/dist-packages/ipykernel_launcher.py:6: UserWarning: The `input_dim` and `input_length` arguments in recurrent layers are deprecated. Use `input_shape` instead.\n",
            "  \n",
            "/usr/local/lib/python3.6/dist-packages/ipykernel_launcher.py:6: UserWarning: Update your `LSTM` call to the Keras 2 API: `LSTM(return_sequences=True, input_shape=(None, 1), units=50)`\n",
            "  \n"
          ],
          "name": "stderr"
        },
        {
          "output_type": "stream",
          "text": [
            "compilation time :  0.031675100326538086\n"
          ],
          "name": "stdout"
        },
        {
          "output_type": "stream",
          "text": [
            "/usr/local/lib/python3.6/dist-packages/ipykernel_launcher.py:15: UserWarning: Update your `Dense` call to the Keras 2 API: `Dense(units=1)`\n",
            "  from ipykernel import kernelapp as app\n"
          ],
          "name": "stderr"
        }
      ]
    },
    {
      "cell_type": "code",
      "metadata": {
        "id": "tzikjpoYWXKw",
        "outputId": "bfecebd3-46d7-448e-d799-0ff42355680a",
        "colab": {
          "base_uri": "https://localhost:8080/",
          "height": 1000
        }
      },
      "source": [
        "model.fit(\n",
        "    trainX,\n",
        "    trainY,\n",
        "    batch_size=128,\n",
        "    nb_epoch=80,\n",
        "    validation_split=0.05)"
      ],
      "execution_count": null,
      "outputs": [
        {
          "output_type": "stream",
          "text": [
            "/usr/local/lib/python3.6/dist-packages/ipykernel_launcher.py:6: UserWarning: The `nb_epoch` argument in `fit` has been renamed `epochs`.\n",
            "  \n"
          ],
          "name": "stderr"
        },
        {
          "output_type": "stream",
          "text": [
            "Train on 1719 samples, validate on 91 samples\n",
            "Epoch 1/80\n",
            "1719/1719 [==============================] - 2s 932us/step - loss: 0.0118 - mean_absolute_error: 0.0760 - val_loss: 0.0522 - val_mean_absolute_error: 0.2278\n",
            "Epoch 2/80\n",
            "1719/1719 [==============================] - 0s 91us/step - loss: 0.0066 - mean_absolute_error: 0.0630 - val_loss: 0.0383 - val_mean_absolute_error: 0.1950\n",
            "Epoch 3/80\n",
            "1719/1719 [==============================] - 0s 86us/step - loss: 0.0051 - mean_absolute_error: 0.0564 - val_loss: 0.0274 - val_mean_absolute_error: 0.1649\n",
            "Epoch 4/80\n",
            "1719/1719 [==============================] - 0s 86us/step - loss: 0.0033 - mean_absolute_error: 0.0448 - val_loss: 0.0111 - val_mean_absolute_error: 0.1050\n",
            "Epoch 5/80\n",
            "1719/1719 [==============================] - 0s 86us/step - loss: 0.0016 - mean_absolute_error: 0.0317 - val_loss: 0.0045 - val_mean_absolute_error: 0.0670\n",
            "Epoch 6/80\n",
            "1719/1719 [==============================] - 0s 87us/step - loss: 5.8823e-04 - mean_absolute_error: 0.0186 - val_loss: 7.0137e-04 - val_mean_absolute_error: 0.0260\n",
            "Epoch 7/80\n",
            "1719/1719 [==============================] - 0s 92us/step - loss: 2.8856e-04 - mean_absolute_error: 0.0120 - val_loss: 3.9329e-04 - val_mean_absolute_error: 0.0192\n",
            "Epoch 8/80\n",
            "1719/1719 [==============================] - 0s 88us/step - loss: 2.2058e-04 - mean_absolute_error: 0.0103 - val_loss: 1.9962e-04 - val_mean_absolute_error: 0.0132\n",
            "Epoch 9/80\n",
            "1719/1719 [==============================] - 0s 95us/step - loss: 2.3068e-04 - mean_absolute_error: 0.0108 - val_loss: 4.4103e-05 - val_mean_absolute_error: 0.0051\n",
            "Epoch 10/80\n",
            "1719/1719 [==============================] - 0s 84us/step - loss: 2.1667e-04 - mean_absolute_error: 0.0103 - val_loss: 1.0165e-04 - val_mean_absolute_error: 0.0090\n",
            "Epoch 11/80\n",
            "1719/1719 [==============================] - 0s 88us/step - loss: 2.1358e-04 - mean_absolute_error: 0.0101 - val_loss: 1.1519e-04 - val_mean_absolute_error: 0.0097\n",
            "Epoch 12/80\n",
            "1719/1719 [==============================] - 0s 89us/step - loss: 1.9163e-04 - mean_absolute_error: 0.0097 - val_loss: 1.6545e-04 - val_mean_absolute_error: 0.0119\n",
            "Epoch 13/80\n",
            "1719/1719 [==============================] - 0s 99us/step - loss: 2.0138e-04 - mean_absolute_error: 0.0099 - val_loss: 1.3723e-04 - val_mean_absolute_error: 0.0107\n",
            "Epoch 14/80\n",
            "1719/1719 [==============================] - 0s 88us/step - loss: 2.1103e-04 - mean_absolute_error: 0.0104 - val_loss: 4.6632e-05 - val_mean_absolute_error: 0.0055\n",
            "Epoch 15/80\n",
            "1719/1719 [==============================] - 0s 91us/step - loss: 1.9416e-04 - mean_absolute_error: 0.0097 - val_loss: 6.5333e-05 - val_mean_absolute_error: 0.0068\n",
            "Epoch 16/80\n",
            "1719/1719 [==============================] - 0s 105us/step - loss: 1.7982e-04 - mean_absolute_error: 0.0095 - val_loss: 6.3731e-05 - val_mean_absolute_error: 0.0067\n",
            "Epoch 17/80\n",
            "1719/1719 [==============================] - 0s 96us/step - loss: 1.8622e-04 - mean_absolute_error: 0.0097 - val_loss: 4.5545e-04 - val_mean_absolute_error: 0.0207\n",
            "Epoch 18/80\n",
            "1719/1719 [==============================] - 0s 88us/step - loss: 1.6840e-04 - mean_absolute_error: 0.0090 - val_loss: 4.3901e-05 - val_mean_absolute_error: 0.0054\n",
            "Epoch 19/80\n",
            "1719/1719 [==============================] - 0s 89us/step - loss: 1.5566e-04 - mean_absolute_error: 0.0084 - val_loss: 5.4036e-05 - val_mean_absolute_error: 0.0060\n",
            "Epoch 20/80\n",
            "1719/1719 [==============================] - 0s 97us/step - loss: 1.8316e-04 - mean_absolute_error: 0.0093 - val_loss: 3.6656e-05 - val_mean_absolute_error: 0.0047\n",
            "Epoch 21/80\n",
            "1719/1719 [==============================] - 0s 88us/step - loss: 1.7964e-04 - mean_absolute_error: 0.0097 - val_loss: 4.4971e-05 - val_mean_absolute_error: 0.0055\n",
            "Epoch 22/80\n",
            "1719/1719 [==============================] - 0s 89us/step - loss: 1.8561e-04 - mean_absolute_error: 0.0092 - val_loss: 2.8935e-05 - val_mean_absolute_error: 0.0038\n",
            "Epoch 23/80\n",
            "1719/1719 [==============================] - 0s 92us/step - loss: 1.5764e-04 - mean_absolute_error: 0.0089 - val_loss: 4.4917e-05 - val_mean_absolute_error: 0.0055\n",
            "Epoch 24/80\n",
            "1719/1719 [==============================] - 0s 88us/step - loss: 1.6830e-04 - mean_absolute_error: 0.0092 - val_loss: 3.9811e-05 - val_mean_absolute_error: 0.0050\n",
            "Epoch 25/80\n",
            "1719/1719 [==============================] - 0s 90us/step - loss: 1.4137e-04 - mean_absolute_error: 0.0084 - val_loss: 1.7403e-04 - val_mean_absolute_error: 0.0123\n",
            "Epoch 26/80\n",
            "1719/1719 [==============================] - 0s 93us/step - loss: 1.7480e-04 - mean_absolute_error: 0.0093 - val_loss: 3.4332e-05 - val_mean_absolute_error: 0.0045\n",
            "Epoch 27/80\n",
            "1719/1719 [==============================] - 0s 89us/step - loss: 1.4636e-04 - mean_absolute_error: 0.0089 - val_loss: 1.1033e-04 - val_mean_absolute_error: 0.0095\n",
            "Epoch 28/80\n",
            "1719/1719 [==============================] - 0s 91us/step - loss: 1.5378e-04 - mean_absolute_error: 0.0085 - val_loss: 3.6894e-04 - val_mean_absolute_error: 0.0185\n",
            "Epoch 29/80\n",
            "1719/1719 [==============================] - 0s 88us/step - loss: 1.6258e-04 - mean_absolute_error: 0.0092 - val_loss: 8.0421e-05 - val_mean_absolute_error: 0.0078\n",
            "Epoch 30/80\n",
            "1719/1719 [==============================] - 0s 92us/step - loss: 1.6236e-04 - mean_absolute_error: 0.0093 - val_loss: 9.2499e-05 - val_mean_absolute_error: 0.0086\n",
            "Epoch 31/80\n",
            "1719/1719 [==============================] - 0s 90us/step - loss: 1.3921e-04 - mean_absolute_error: 0.0078 - val_loss: 8.1730e-05 - val_mean_absolute_error: 0.0079\n",
            "Epoch 32/80\n",
            "1719/1719 [==============================] - 0s 90us/step - loss: 1.5921e-04 - mean_absolute_error: 0.0089 - val_loss: 8.2372e-05 - val_mean_absolute_error: 0.0079\n",
            "Epoch 33/80\n",
            "1719/1719 [==============================] - 0s 99us/step - loss: 1.3881e-04 - mean_absolute_error: 0.0086 - val_loss: 4.2319e-05 - val_mean_absolute_error: 0.0051\n",
            "Epoch 34/80\n",
            "1719/1719 [==============================] - 0s 89us/step - loss: 1.7022e-04 - mean_absolute_error: 0.0092 - val_loss: 2.9845e-04 - val_mean_absolute_error: 0.0165\n",
            "Epoch 35/80\n",
            "1719/1719 [==============================] - 0s 87us/step - loss: 1.3844e-04 - mean_absolute_error: 0.0078 - val_loss: 1.2112e-04 - val_mean_absolute_error: 0.0100\n",
            "Epoch 36/80\n",
            "1719/1719 [==============================] - 0s 91us/step - loss: 1.5062e-04 - mean_absolute_error: 0.0087 - val_loss: 3.0683e-05 - val_mean_absolute_error: 0.0040\n",
            "Epoch 37/80\n",
            "1719/1719 [==============================] - 0s 88us/step - loss: 1.4947e-04 - mean_absolute_error: 0.0084 - val_loss: 1.3942e-04 - val_mean_absolute_error: 0.0108\n",
            "Epoch 38/80\n",
            "1719/1719 [==============================] - 0s 94us/step - loss: 1.5446e-04 - mean_absolute_error: 0.0087 - val_loss: 1.0166e-04 - val_mean_absolute_error: 0.0090\n",
            "Epoch 39/80\n",
            "1719/1719 [==============================] - 0s 101us/step - loss: 1.4610e-04 - mean_absolute_error: 0.0083 - val_loss: 8.4441e-05 - val_mean_absolute_error: 0.0081\n",
            "Epoch 40/80\n",
            "1719/1719 [==============================] - 0s 99us/step - loss: 1.3689e-04 - mean_absolute_error: 0.0084 - val_loss: 1.4805e-04 - val_mean_absolute_error: 0.0112\n",
            "Epoch 41/80\n",
            "1719/1719 [==============================] - 0s 93us/step - loss: 1.4496e-04 - mean_absolute_error: 0.0085 - val_loss: 8.2979e-05 - val_mean_absolute_error: 0.0080\n",
            "Epoch 42/80\n",
            "1719/1719 [==============================] - 0s 89us/step - loss: 1.5986e-04 - mean_absolute_error: 0.0089 - val_loss: 1.1679e-04 - val_mean_absolute_error: 0.0098\n",
            "Epoch 43/80\n",
            "1719/1719 [==============================] - 0s 92us/step - loss: 1.3162e-04 - mean_absolute_error: 0.0078 - val_loss: 9.6455e-05 - val_mean_absolute_error: 0.0088\n",
            "Epoch 44/80\n",
            "1719/1719 [==============================] - 0s 93us/step - loss: 1.3917e-04 - mean_absolute_error: 0.0084 - val_loss: 9.2414e-05 - val_mean_absolute_error: 0.0085\n",
            "Epoch 45/80\n",
            "1719/1719 [==============================] - 0s 89us/step - loss: 1.0607e-04 - mean_absolute_error: 0.0072 - val_loss: 6.4306e-05 - val_mean_absolute_error: 0.0069\n",
            "Epoch 46/80\n",
            "1719/1719 [==============================] - 0s 96us/step - loss: 1.5440e-04 - mean_absolute_error: 0.0086 - val_loss: 1.5145e-04 - val_mean_absolute_error: 0.0114\n",
            "Epoch 47/80\n",
            "1719/1719 [==============================] - 0s 90us/step - loss: 1.4677e-04 - mean_absolute_error: 0.0089 - val_loss: 5.4193e-05 - val_mean_absolute_error: 0.0062\n",
            "Epoch 48/80\n",
            "1719/1719 [==============================] - 0s 92us/step - loss: 1.4006e-04 - mean_absolute_error: 0.0084 - val_loss: 1.0706e-04 - val_mean_absolute_error: 0.0093\n",
            "Epoch 49/80\n",
            "1719/1719 [==============================] - 0s 97us/step - loss: 1.3715e-04 - mean_absolute_error: 0.0083 - val_loss: 2.8153e-05 - val_mean_absolute_error: 0.0039\n",
            "Epoch 50/80\n",
            "1719/1719 [==============================] - 0s 88us/step - loss: 1.4154e-04 - mean_absolute_error: 0.0084 - val_loss: 2.8350e-05 - val_mean_absolute_error: 0.0038\n",
            "Epoch 51/80\n",
            "1719/1719 [==============================] - 0s 89us/step - loss: 1.3085e-04 - mean_absolute_error: 0.0081 - val_loss: 9.9383e-05 - val_mean_absolute_error: 0.0089\n",
            "Epoch 52/80\n",
            "1719/1719 [==============================] - 0s 103us/step - loss: 1.6009e-04 - mean_absolute_error: 0.0089 - val_loss: 1.2472e-04 - val_mean_absolute_error: 0.0101\n",
            "Epoch 53/80\n",
            "1719/1719 [==============================] - 0s 91us/step - loss: 1.4058e-04 - mean_absolute_error: 0.0081 - val_loss: 3.4249e-05 - val_mean_absolute_error: 0.0045\n",
            "Epoch 54/80\n",
            "1719/1719 [==============================] - 0s 92us/step - loss: 1.1602e-04 - mean_absolute_error: 0.0074 - val_loss: 7.1764e-05 - val_mean_absolute_error: 0.0074\n",
            "Epoch 55/80\n",
            "1719/1719 [==============================] - 0s 95us/step - loss: 1.3542e-04 - mean_absolute_error: 0.0084 - val_loss: 9.2665e-05 - val_mean_absolute_error: 0.0086\n",
            "Epoch 56/80\n",
            "1719/1719 [==============================] - 0s 95us/step - loss: 1.3735e-04 - mean_absolute_error: 0.0085 - val_loss: 3.5881e-05 - val_mean_absolute_error: 0.0046\n",
            "Epoch 57/80\n",
            "1719/1719 [==============================] - 0s 88us/step - loss: 1.3500e-04 - mean_absolute_error: 0.0083 - val_loss: 5.8830e-05 - val_mean_absolute_error: 0.0065\n",
            "Epoch 58/80\n",
            "1719/1719 [==============================] - 0s 93us/step - loss: 1.2315e-04 - mean_absolute_error: 0.0080 - val_loss: 2.8182e-05 - val_mean_absolute_error: 0.0038\n",
            "Epoch 59/80\n",
            "1719/1719 [==============================] - 0s 98us/step - loss: 1.3483e-04 - mean_absolute_error: 0.0083 - val_loss: 1.3298e-04 - val_mean_absolute_error: 0.0105\n",
            "Epoch 60/80\n",
            "1719/1719 [==============================] - 0s 86us/step - loss: 1.3363e-04 - mean_absolute_error: 0.0084 - val_loss: 9.4996e-05 - val_mean_absolute_error: 0.0087\n",
            "Epoch 61/80\n",
            "1719/1719 [==============================] - 0s 87us/step - loss: 1.0705e-04 - mean_absolute_error: 0.0072 - val_loss: 1.8190e-04 - val_mean_absolute_error: 0.0125\n",
            "Epoch 62/80\n",
            "1719/1719 [==============================] - 0s 95us/step - loss: 1.5339e-04 - mean_absolute_error: 0.0092 - val_loss: 1.9177e-04 - val_mean_absolute_error: 0.0129\n",
            "Epoch 63/80\n",
            "1719/1719 [==============================] - 0s 93us/step - loss: 1.4165e-04 - mean_absolute_error: 0.0085 - val_loss: 9.9931e-05 - val_mean_absolute_error: 0.0090\n",
            "Epoch 64/80\n",
            "1719/1719 [==============================] - 0s 94us/step - loss: 1.2340e-04 - mean_absolute_error: 0.0080 - val_loss: 1.2305e-04 - val_mean_absolute_error: 0.0101\n",
            "Epoch 65/80\n",
            "1719/1719 [==============================] - 0s 122us/step - loss: 1.2870e-04 - mean_absolute_error: 0.0082 - val_loss: 2.0341e-04 - val_mean_absolute_error: 0.0134\n",
            "Epoch 66/80\n",
            "1719/1719 [==============================] - 0s 91us/step - loss: 1.3016e-04 - mean_absolute_error: 0.0084 - val_loss: 4.2077e-05 - val_mean_absolute_error: 0.0052\n",
            "Epoch 67/80\n",
            "1719/1719 [==============================] - 0s 87us/step - loss: 1.2615e-04 - mean_absolute_error: 0.0082 - val_loss: 4.1921e-05 - val_mean_absolute_error: 0.0052\n",
            "Epoch 68/80\n",
            "1719/1719 [==============================] - 0s 85us/step - loss: 1.1662e-04 - mean_absolute_error: 0.0076 - val_loss: 6.1197e-04 - val_mean_absolute_error: 0.0242\n",
            "Epoch 69/80\n",
            "1719/1719 [==============================] - 0s 89us/step - loss: 1.5171e-04 - mean_absolute_error: 0.0089 - val_loss: 5.4299e-05 - val_mean_absolute_error: 0.0062\n",
            "Epoch 70/80\n",
            "1719/1719 [==============================] - 0s 87us/step - loss: 1.3168e-04 - mean_absolute_error: 0.0083 - val_loss: 1.6580e-04 - val_mean_absolute_error: 0.0120\n",
            "Epoch 71/80\n",
            "1719/1719 [==============================] - 0s 101us/step - loss: 1.2382e-04 - mean_absolute_error: 0.0081 - val_loss: 6.4290e-05 - val_mean_absolute_error: 0.0069\n",
            "Epoch 72/80\n",
            "1719/1719 [==============================] - 0s 96us/step - loss: 1.1309e-04 - mean_absolute_error: 0.0076 - val_loss: 3.5509e-05 - val_mean_absolute_error: 0.0046\n",
            "Epoch 73/80\n",
            "1719/1719 [==============================] - 0s 88us/step - loss: 1.4478e-04 - mean_absolute_error: 0.0087 - val_loss: 1.0949e-04 - val_mean_absolute_error: 0.0094\n",
            "Epoch 74/80\n",
            "1719/1719 [==============================] - 0s 92us/step - loss: 1.3794e-04 - mean_absolute_error: 0.0085 - val_loss: 1.5246e-04 - val_mean_absolute_error: 0.0114\n",
            "Epoch 75/80\n",
            "1719/1719 [==============================] - 0s 94us/step - loss: 1.2279e-04 - mean_absolute_error: 0.0080 - val_loss: 1.0124e-04 - val_mean_absolute_error: 0.0090\n",
            "Epoch 76/80\n",
            "1719/1719 [==============================] - 0s 92us/step - loss: 1.3769e-04 - mean_absolute_error: 0.0084 - val_loss: 3.0729e-05 - val_mean_absolute_error: 0.0041\n",
            "Epoch 77/80\n",
            "1719/1719 [==============================] - 0s 101us/step - loss: 1.0772e-04 - mean_absolute_error: 0.0072 - val_loss: 7.3066e-05 - val_mean_absolute_error: 0.0075\n",
            "Epoch 78/80\n",
            "1719/1719 [==============================] - 0s 104us/step - loss: 1.4476e-04 - mean_absolute_error: 0.0091 - val_loss: 5.3765e-05 - val_mean_absolute_error: 0.0062\n",
            "Epoch 79/80\n",
            "1719/1719 [==============================] - 0s 91us/step - loss: 1.1429e-04 - mean_absolute_error: 0.0078 - val_loss: 1.5640e-04 - val_mean_absolute_error: 0.0116\n",
            "Epoch 80/80\n",
            "1719/1719 [==============================] - 0s 91us/step - loss: 1.3166e-04 - mean_absolute_error: 0.0080 - val_loss: 3.4405e-05 - val_mean_absolute_error: 0.0045\n"
          ],
          "name": "stdout"
        },
        {
          "output_type": "execute_result",
          "data": {
            "text/plain": [
              "<keras.callbacks.History at 0x7ff300116240>"
            ]
          },
          "metadata": {
            "tags": []
          },
          "execution_count": 24
        }
      ]
    },
    {
      "cell_type": "markdown",
      "metadata": {
        "id": "PQazcuL1c9QZ"
      },
      "source": [
        "**is it overtrained? lets run again with 40 epochs**"
      ]
    },
    {
      "cell_type": "code",
      "metadata": {
        "id": "FvK2f7nXW3rH",
        "outputId": "d36535c1-c5a0-4157-c39f-6c48bb3b3575",
        "colab": {
          "base_uri": "https://localhost:8080/",
          "height": 1000
        }
      },
      "source": [
        "model.fit(\n",
        "    trainX,\n",
        "    trainY,\n",
        "    batch_size=128,\n",
        "    nb_epoch=40,\n",
        "    validation_split=0.05)"
      ],
      "execution_count": null,
      "outputs": [
        {
          "output_type": "stream",
          "text": [
            "Train on 1719 samples, validate on 91 samples\n",
            "Epoch 1/40\n",
            "1719/1719 [==============================] - 0s 102us/step - loss: 1.4395e-04 - mean_absolute_error: 0.0088 - val_loss: 7.2878e-05 - val_mean_absolute_error: 0.0075\n",
            "Epoch 2/40\n",
            " 128/1719 [=>............................] - ETA: 0s - loss: 9.1589e-05 - mean_absolute_error: 0.0062"
          ],
          "name": "stdout"
        },
        {
          "output_type": "stream",
          "text": [
            "/usr/local/lib/python3.6/dist-packages/ipykernel_launcher.py:6: UserWarning: The `nb_epoch` argument in `fit` has been renamed `epochs`.\n",
            "  \n"
          ],
          "name": "stderr"
        },
        {
          "output_type": "stream",
          "text": [
            "1719/1719 [==============================] - 0s 95us/step - loss: 1.1378e-04 - mean_absolute_error: 0.0077 - val_loss: 7.1421e-05 - val_mean_absolute_error: 0.0073\n",
            "Epoch 3/40\n",
            "1719/1719 [==============================] - 0s 89us/step - loss: 1.3333e-04 - mean_absolute_error: 0.0084 - val_loss: 3.9828e-05 - val_mean_absolute_error: 0.0050\n",
            "Epoch 4/40\n",
            "1719/1719 [==============================] - 0s 93us/step - loss: 1.2639e-04 - mean_absolute_error: 0.0082 - val_loss: 3.1434e-05 - val_mean_absolute_error: 0.0042\n",
            "Epoch 5/40\n",
            "1719/1719 [==============================] - 0s 93us/step - loss: 1.2105e-04 - mean_absolute_error: 0.0080 - val_loss: 6.5291e-05 - val_mean_absolute_error: 0.0070\n",
            "Epoch 6/40\n",
            "1719/1719 [==============================] - 0s 88us/step - loss: 1.3959e-04 - mean_absolute_error: 0.0085 - val_loss: 4.1084e-04 - val_mean_absolute_error: 0.0196\n",
            "Epoch 7/40\n",
            "1719/1719 [==============================] - 0s 87us/step - loss: 1.2085e-04 - mean_absolute_error: 0.0080 - val_loss: 3.6565e-04 - val_mean_absolute_error: 0.0184\n",
            "Epoch 8/40\n",
            "1719/1719 [==============================] - 0s 93us/step - loss: 1.2532e-04 - mean_absolute_error: 0.0081 - val_loss: 9.1453e-05 - val_mean_absolute_error: 0.0085\n",
            "Epoch 9/40\n",
            "1719/1719 [==============================] - 0s 90us/step - loss: 1.3458e-04 - mean_absolute_error: 0.0084 - val_loss: 3.2829e-05 - val_mean_absolute_error: 0.0044\n",
            "Epoch 10/40\n",
            "1719/1719 [==============================] - 0s 93us/step - loss: 1.1974e-04 - mean_absolute_error: 0.0079 - val_loss: 2.6812e-05 - val_mean_absolute_error: 0.0037\n",
            "Epoch 11/40\n",
            "1719/1719 [==============================] - 0s 94us/step - loss: 1.1889e-04 - mean_absolute_error: 0.0079 - val_loss: 8.9790e-05 - val_mean_absolute_error: 0.0085\n",
            "Epoch 12/40\n",
            "1719/1719 [==============================] - 0s 87us/step - loss: 1.2687e-04 - mean_absolute_error: 0.0083 - val_loss: 1.0581e-04 - val_mean_absolute_error: 0.0092\n",
            "Epoch 13/40\n",
            "1719/1719 [==============================] - 0s 88us/step - loss: 1.0807e-04 - mean_absolute_error: 0.0075 - val_loss: 9.7315e-05 - val_mean_absolute_error: 0.0088\n",
            "Epoch 14/40\n",
            "1719/1719 [==============================] - 0s 91us/step - loss: 1.1440e-04 - mean_absolute_error: 0.0075 - val_loss: 1.2471e-04 - val_mean_absolute_error: 0.0101\n",
            "Epoch 15/40\n",
            "1719/1719 [==============================] - 0s 92us/step - loss: 1.2797e-04 - mean_absolute_error: 0.0084 - val_loss: 3.1272e-04 - val_mean_absolute_error: 0.0169\n",
            "Epoch 16/40\n",
            "1719/1719 [==============================] - 0s 95us/step - loss: 1.2103e-04 - mean_absolute_error: 0.0080 - val_loss: 1.1063e-04 - val_mean_absolute_error: 0.0095\n",
            "Epoch 17/40\n",
            "1719/1719 [==============================] - 0s 107us/step - loss: 1.2381e-04 - mean_absolute_error: 0.0082 - val_loss: 5.4325e-05 - val_mean_absolute_error: 0.0062\n",
            "Epoch 18/40\n",
            "1719/1719 [==============================] - 0s 89us/step - loss: 1.0797e-04 - mean_absolute_error: 0.0073 - val_loss: 6.9013e-05 - val_mean_absolute_error: 0.0071\n",
            "Epoch 19/40\n",
            "1719/1719 [==============================] - 0s 109us/step - loss: 1.2457e-04 - mean_absolute_error: 0.0082 - val_loss: 1.2270e-04 - val_mean_absolute_error: 0.0100\n",
            "Epoch 20/40\n",
            "1719/1719 [==============================] - 0s 89us/step - loss: 1.2081e-04 - mean_absolute_error: 0.0082 - val_loss: 2.5328e-04 - val_mean_absolute_error: 0.0151\n",
            "Epoch 21/40\n",
            "1719/1719 [==============================] - 0s 92us/step - loss: 1.2580e-04 - mean_absolute_error: 0.0083 - val_loss: 4.9837e-05 - val_mean_absolute_error: 0.0059\n",
            "Epoch 22/40\n",
            "1719/1719 [==============================] - 0s 91us/step - loss: 1.2509e-04 - mean_absolute_error: 0.0082 - val_loss: 4.6585e-05 - val_mean_absolute_error: 0.0056\n",
            "Epoch 23/40\n",
            "1719/1719 [==============================] - 0s 91us/step - loss: 1.1245e-04 - mean_absolute_error: 0.0076 - val_loss: 2.7249e-05 - val_mean_absolute_error: 0.0038\n",
            "Epoch 24/40\n",
            "1719/1719 [==============================] - 0s 88us/step - loss: 1.2061e-04 - mean_absolute_error: 0.0080 - val_loss: 2.4126e-04 - val_mean_absolute_error: 0.0146\n",
            "Epoch 25/40\n",
            "1719/1719 [==============================] - 0s 87us/step - loss: 1.1572e-04 - mean_absolute_error: 0.0077 - val_loss: 1.2319e-04 - val_mean_absolute_error: 0.0100\n",
            "Epoch 26/40\n",
            "1719/1719 [==============================] - 0s 88us/step - loss: 1.2772e-04 - mean_absolute_error: 0.0085 - val_loss: 2.6375e-05 - val_mean_absolute_error: 0.0037\n",
            "Epoch 27/40\n",
            "1719/1719 [==============================] - 0s 85us/step - loss: 1.1028e-04 - mean_absolute_error: 0.0079 - val_loss: 1.6489e-04 - val_mean_absolute_error: 0.0119\n",
            "Epoch 28/40\n",
            "1719/1719 [==============================] - 0s 88us/step - loss: 1.1402e-04 - mean_absolute_error: 0.0076 - val_loss: 4.7650e-05 - val_mean_absolute_error: 0.0056\n",
            "Epoch 29/40\n",
            "1719/1719 [==============================] - 0s 85us/step - loss: 1.0562e-04 - mean_absolute_error: 0.0070 - val_loss: 2.3996e-04 - val_mean_absolute_error: 0.0147\n",
            "Epoch 30/40\n",
            "1719/1719 [==============================] - 0s 96us/step - loss: 1.1833e-04 - mean_absolute_error: 0.0080 - val_loss: 4.2833e-05 - val_mean_absolute_error: 0.0052\n",
            "Epoch 31/40\n",
            "1719/1719 [==============================] - 0s 93us/step - loss: 1.1623e-04 - mean_absolute_error: 0.0075 - val_loss: 4.6854e-04 - val_mean_absolute_error: 0.0210\n",
            "Epoch 32/40\n",
            "1719/1719 [==============================] - 0s 92us/step - loss: 1.2763e-04 - mean_absolute_error: 0.0082 - val_loss: 4.7272e-05 - val_mean_absolute_error: 0.0056\n",
            "Epoch 33/40\n",
            "1719/1719 [==============================] - 0s 87us/step - loss: 1.0776e-04 - mean_absolute_error: 0.0073 - val_loss: 1.5516e-04 - val_mean_absolute_error: 0.0115\n",
            "Epoch 34/40\n",
            "1719/1719 [==============================] - 0s 94us/step - loss: 1.0795e-04 - mean_absolute_error: 0.0074 - val_loss: 3.5491e-05 - val_mean_absolute_error: 0.0046\n",
            "Epoch 35/40\n",
            "1719/1719 [==============================] - 0s 89us/step - loss: 1.2660e-04 - mean_absolute_error: 0.0081 - val_loss: 2.8242e-04 - val_mean_absolute_error: 0.0160\n",
            "Epoch 36/40\n",
            "1719/1719 [==============================] - 0s 89us/step - loss: 1.1183e-04 - mean_absolute_error: 0.0074 - val_loss: 9.7360e-05 - val_mean_absolute_error: 0.0087\n",
            "Epoch 37/40\n",
            "1719/1719 [==============================] - 0s 106us/step - loss: 1.1645e-04 - mean_absolute_error: 0.0077 - val_loss: 5.6632e-05 - val_mean_absolute_error: 0.0063\n",
            "Epoch 38/40\n",
            "1719/1719 [==============================] - 0s 89us/step - loss: 1.1465e-04 - mean_absolute_error: 0.0080 - val_loss: 2.0228e-04 - val_mean_absolute_error: 0.0134\n",
            "Epoch 39/40\n",
            "1719/1719 [==============================] - 0s 87us/step - loss: 1.0808e-04 - mean_absolute_error: 0.0075 - val_loss: 2.2450e-04 - val_mean_absolute_error: 0.0141\n",
            "Epoch 40/40\n",
            "1719/1719 [==============================] - 0s 95us/step - loss: 1.1486e-04 - mean_absolute_error: 0.0081 - val_loss: 5.5542e-04 - val_mean_absolute_error: 0.0230\n"
          ],
          "name": "stdout"
        },
        {
          "output_type": "execute_result",
          "data": {
            "text/plain": [
              "<keras.callbacks.History at 0x7ff31164e208>"
            ]
          },
          "metadata": {
            "tags": []
          },
          "execution_count": 25
        }
      ]
    },
    {
      "cell_type": "markdown",
      "metadata": {
        "id": "PNNUkkpIdCfK"
      },
      "source": [
        "**Final Predictions**"
      ]
    },
    {
      "cell_type": "code",
      "metadata": {
        "id": "27AkkDUDXLkP",
        "outputId": "4601f90c-80d1-40ad-e2c4-ee01ddd6c567",
        "colab": {
          "base_uri": "https://localhost:8080/",
          "height": 283
        }
      },
      "source": [
        "import matplotlib.pyplot as plt\n",
        "predicted_stateful = model.predict(testX)\n",
        "plt.plot(testY, color = 'red',label = 'Actual Closing Prices')\n",
        "plt.plot(predicted_stateful.flatten(), color = 'blue', label  = 'Predicted closing Prices')\n",
        "plt.xlabel('Days')\n",
        "plt.ylabel('Normalised Prices')\n",
        "plt.legend(loc='best')\n",
        "plt.show()"
      ],
      "execution_count": null,
      "outputs": [
        {
          "output_type": "display_data",
          "data": {
            "image/png": "[encoded data removed]",
            "text/plain": [
              "<Figure size 432x288 with 1 Axes>"
            ]
          },
          "metadata": {
            "tags": []
          }
        }
      ]
    },
    {
      "cell_type": "markdown",
      "metadata": {
        "id": "nc-mIZspkToH"
      },
      "source": [
        "**So LSTM  works great to predict Closing Prices when we normalize the prices and predict the stock Price movement.**"
      ]
    },
    {
      "cell_type": "code",
      "metadata": {
        "id": "6Im_DUAVIr3K",
        "outputId": "528dd187-3a05-42d0-d097-484700ac6a9d",
        "colab": {
          "base_uri": "https://localhost:8080/",
          "height": 52
        }
      },
      "source": [
        "mae = model.evaluate(trainX,\n",
        "    trainY,\n",
        "    batch_size=128,verbose=1)"
      ],
      "execution_count": null,
      "outputs": [
        {
          "output_type": "stream",
          "text": [
            "1810/1810 [==============================] - 0s 28us/step\n"
          ],
          "name": "stdout"
        },
        {
          "output_type": "execute_result",
          "data": {
            "text/plain": [
              "[0.00017531904821587696, 0.01169782763974772]"
            ]
          },
          "metadata": {
            "tags": []
          },
          "execution_count": 27
        }
      ]
    },
    {
      "cell_type": "markdown",
      "metadata": {
        "id": "SbLZwCUodL0R"
      },
      "source": [
        "**Seems like using LSTM to predict stock price movement gives much better prediction resullts!!**\n",
        "\n",
        "**Will work more on this in the next notebook..**"
      ]
    },
    {
      "cell_type": "code",
      "metadata": {
        "id": "FvtbDsAr8uES"
      },
      "source": [],
      "execution_count": null,
      "outputs": []
    }
  ]
}