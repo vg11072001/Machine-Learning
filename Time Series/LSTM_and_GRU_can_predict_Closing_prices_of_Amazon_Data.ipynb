{
  "nbformat": 4,
  "nbformat_minor": 0,
  "metadata": {
    "kernelspec": {
      "name": "python2",
      "display_name": "Python 2"
    },
    "colab": {
      "provenance": [],
      "toc_visible": true,
      "include_colab_link": true
    },
    "accelerator": "GPU"
  },
  "cells": [
    {
      "cell_type": "markdown",
      "metadata": {
        "id": "view-in-github",
        "colab_type": "text"
      },
      "source": [
        "<a href=\"https://colab.research.google.com/github/vg11072001/Machine-Learning/blob/main/Time%20Series/LSTM_and_GRU_can_predict_Closing_prices_of_Amazon_Data.ipynb\" target=\"_parent\"><img src=\"https://colab.research.google.com/assets/colab-badge.svg\" alt=\"Open In Colab\"/></a>"
      ]
    },
    {
      "cell_type": "markdown",
      "metadata": {
        "id": "KVmQxEXpKz1g"
      },
      "source": [
        "#**WHAT I DID IN THIS NOTEBOOK:**\n",
        "\n",
        "**In previous notebooks I used MAE as a metric of measure. However I then changed to using accuracy as a measure by changing the regression problem into classification where I found how I could predict datapoints of the closing price by creating EMA, normalizing the dataset and stacking X and finding Y based on X**\n",
        "\n",
        "**I then used this dataset to split into test, train and validate sets.**\n",
        "\n",
        "**I stacked the OHLCV data and used that as X and closing prices as Y hence genetrated  the classification problem.**\n",
        "\n",
        "**Then I predicted the accuacy.**\n",
        "\n",
        "**I used hyperparemeter tuning for the LSTM model and ran a GRU cell with some hyperparameter too.**\n"
      ]
    },
    {
      "cell_type": "markdown",
      "metadata": {
        "id": "9hr2QGohexbw"
      },
      "source": [
        "**Importing packages from keras**"
      ]
    },
    {
      "cell_type": "code",
      "metadata": {
        "id": "-vDgUuKciK_G",
        "colab": {
          "base_uri": "https://localhost:8080/",
          "height": 34
        },
        "outputId": "de9ff0de-8acc-459d-c05a-c939e66b76aa"
      },
      "source": [
        "import tensorflow as tf\n",
        "device_name = tf.test.gpu_device_name()\n",
        "if device_name != '/device:GPU:0':\n",
        "  raise SystemError('GPU device not found')\n",
        "print('Found GPU at: {}'.format(device_name))"
      ],
      "execution_count": null,
      "outputs": [
        {
          "output_type": "stream",
          "text": [
            "Found GPU at: /device:GPU:0\n"
          ],
          "name": "stdout"
        }
      ]
    },
    {
      "cell_type": "code",
      "metadata": {
        "id": "nA_Zb6-SirM_",
        "colab": {
          "base_uri": "https://localhost:8080/",
          "height": 34
        },
        "outputId": "0f0ec8db-0a6f-4a4d-ec6d-3642b82cd986"
      },
      "source": [
        "from google.colab import drive\n",
        "\n",
        "# This will prompt for authorization.\n",
        "# drive.mount('/content/drive')\n",
        "drive.mount(\"/content/drive\", force_remount=True)"
      ],
      "execution_count": null,
      "outputs": [
        {
          "output_type": "stream",
          "text": [
            "Mounted at /content/drive\n"
          ],
          "name": "stdout"
        }
      ]
    },
    {
      "cell_type": "code",
      "metadata": {
        "id": "zo7yv_YQirTs"
      },
      "source": [
        "googlepath = \"/content/drive/My Drive/\""
      ],
      "execution_count": null,
      "outputs": []
    },
    {
      "cell_type": "code",
      "metadata": {
        "id": "P7rL_mRQjGdo"
      },
      "source": [
        "#!python /content/drive/'My Drive'/utils.py install"
      ],
      "execution_count": null,
      "outputs": []
    },
    {
      "cell_type": "code",
      "metadata": {
        "id": "ZWSopsKs8Z8M",
        "colab": {
          "resources": {
            "http://localhost:8080/nbextensions/google.colab/files.js": {
              "data": "Ly8gQ29weXJpZ2h0IDIwMTcgR29vZ2xlIExMQwovLwovLyBMaWNlbnNlZCB1bmRlciB0aGUgQXBhY2hlIExpY2Vuc2UsIFZlcnNpb24gMi4wICh0aGUgIkxpY2Vuc2UiKTsKLy8geW91IG1heSBub3QgdXNlIHRoaXMgZmlsZSBleGNlcHQgaW4gY29tcGxpYW5jZSB3aXRoIHRoZSBMaWNlbnNlLgovLyBZb3UgbWF5IG9idGFpbiBhIGNvcHkgb2YgdGhlIExpY2Vuc2UgYXQKLy8KLy8gICAgICBodHRwOi8vd3d3LmFwYWNoZS5vcmcvbGljZW5zZXMvTElDRU5TRS0yLjAKLy8KLy8gVW5sZXNzIHJlcXVpcmVkIGJ5IGFwcGxpY2FibGUgbGF3IG9yIGFncmVlZCB0byBpbiB3cml0aW5nLCBzb2Z0d2FyZQovLyBkaXN0cmlidXRlZCB1bmRlciB0aGUgTGljZW5zZSBpcyBkaXN0cmlidXRlZCBvbiBhbiAiQVMgSVMiIEJBU0lTLAovLyBXSVRIT1VUIFdBUlJBTlRJRVMgT1IgQ09ORElUSU9OUyBPRiBBTlkgS0lORCwgZWl0aGVyIGV4cHJlc3Mgb3IgaW1wbGllZC4KLy8gU2VlIHRoZSBMaWNlbnNlIGZvciB0aGUgc3BlY2lmaWMgbGFuZ3VhZ2UgZ292ZXJuaW5nIHBlcm1pc3Npb25zIGFuZAovLyBsaW1pdGF0aW9ucyB1bmRlciB0aGUgTGljZW5zZS4KCi8qKgogKiBAZmlsZW92ZXJ2aWV3IEhlbHBlcnMgZm9yIGdvb2dsZS5jb2xhYiBQeXRob24gbW9kdWxlLgogKi8KKGZ1bmN0aW9uKHNjb3BlKSB7CmZ1bmN0aW9uIHNwYW4odGV4dCwgc3R5bGVBdHRyaWJ1dGVzID0ge30pIHsKICBjb25zdCBlbGVtZW50ID0gZG9jdW1lbnQuY3JlYXRlRWxlbWVudCgnc3BhbicpOwogIGVsZW1lbnQudGV4dENvbnRlbnQgPSB0ZXh0OwogIGZvciAoY29uc3Qga2V5IG9mIE9iamVjdC5rZXlzKHN0eWxlQXR0cmlidXRlcykpIHsKICAgIGVsZW1lbnQuc3R5bGVba2V5XSA9IHN0eWxlQXR0cmlidXRlc1trZXldOwogIH0KICByZXR1cm4gZWxlbWVudDsKfQoKLy8gTWF4IG51bWJlciBvZiBieXRlcyB3aGljaCB3aWxsIGJlIHVwbG9hZGVkIGF0IGEgdGltZS4KY29uc3QgTUFYX1BBWUxPQURfU0laRSA9IDEwMCAqIDEwMjQ7Ci8vIE1heCBhbW91bnQgb2YgdGltZSB0byBibG9jayB3YWl0aW5nIGZvciB0aGUgdXNlci4KY29uc3QgRklMRV9DSEFOR0VfVElNRU9VVF9NUyA9IDMwICogMTAwMDsKCmZ1bmN0aW9uIF91cGxvYWRGaWxlcyhpbnB1dElkLCBvdXRwdXRJZCkgewogIGNvbnN0IHN0ZXBzID0gdXBsb2FkRmlsZXNTdGVwKGlucHV0SWQsIG91dHB1dElkKTsKICBjb25zdCBvdXRwdXRFbGVtZW50ID0gZG9jdW1lbnQuZ2V0RWxlbWVudEJ5SWQob3V0cHV0SWQpOwogIC8vIENhY2hlIHN0ZXBzIG9uIHRoZSBvdXRwdXRFbGVtZW50IHRvIG1ha2UgaXQgYXZhaWxhYmxlIGZvciB0aGUgbmV4dCBjYWxsCiAgLy8gdG8gdXBsb2FkRmlsZXNDb250aW51ZSBmcm9tIFB5dGhvbi4KICBvdXRwdXRFbGVtZW50LnN0ZXBzID0gc3RlcHM7CgogIHJldHVybiBfdXBsb2FkRmlsZXNDb250aW51ZShvdXRwdXRJZCk7Cn0KCi8vIFRoaXMgaXMgcm91Z2hseSBhbiBhc3luYyBnZW5lcmF0b3IgKG5vdCBzdXBwb3J0ZWQgaW4gdGhlIGJyb3dzZXIgeWV0KSwKLy8gd2hlcmUgdGhlcmUgYXJlIG11bHRpcGxlIGFzeW5jaHJvbm91cyBzdGVwcyBhbmQgdGhlIFB5dGhvbiBzaWRlIGlzIGdvaW5nCi8vIHRvIHBvbGwgZm9yIGNvbXBsZXRpb24gb2YgZWFjaCBzdGVwLgovLyBUaGlzIHVzZXMgYSBQcm9taXNlIHRvIGJsb2NrIHRoZSBweXRob24gc2lkZSBvbiBjb21wbGV0aW9uIG9mIGVhY2ggc3RlcCwKLy8gdGhlbiBwYXNzZXMgdGhlIHJlc3VsdCBvZiB0aGUgcHJldmlvdXMgc3RlcCBhcyB0aGUgaW5wdXQgdG8gdGhlIG5leHQgc3RlcC4KZnVuY3Rpb24gX3VwbG9hZEZpbGVzQ29udGludWUob3V0cHV0SWQpIHsKICBjb25zdCBvdXRwdXRFbGVtZW50ID0gZG9jdW1lbnQuZ2V0RWxlbWVudEJ5SWQob3V0cHV0SWQpOwogIGNvbnN0IHN0ZXBzID0gb3V0cHV0RWxlbWVudC5zdGVwczsKCiAgY29uc3QgbmV4dCA9IHN0ZXBzLm5leHQob3V0cHV0RWxlbWVudC5sYXN0UHJvbWlzZVZhbHVlKTsKICByZXR1cm4gUHJvbWlzZS5yZXNvbHZlKG5leHQudmFsdWUucHJvbWlzZSkudGhlbigodmFsdWUpID0+IHsKICAgIC8vIENhY2hlIHRoZSBsYXN0IHByb21pc2UgdmFsdWUgdG8gbWFrZSBpdCBhdmFpbGFibGUgdG8gdGhlIG5leHQKICAgIC8vIHN0ZXAgb2YgdGhlIGdlbmVyYXRvci4KICAgIG91dHB1dEVsZW1lbnQubGFzdFByb21pc2VWYWx1ZSA9IHZhbHVlOwogICAgcmV0dXJuIG5leHQudmFsdWUucmVzcG9uc2U7CiAgfSk7Cn0KCi8qKgogKiBHZW5lcmF0b3IgZnVuY3Rpb24gd2hpY2ggaXMgY2FsbGVkIGJldHdlZW4gZWFjaCBhc3luYyBzdGVwIG9mIHRoZSB1cGxvYWQKICogcHJvY2Vzcy4KICogQHBhcmFtIHtzdHJpbmd9IGlucHV0SWQgRWxlbWVudCBJRCBvZiB0aGUgaW5wdXQgZmlsZSBwaWNrZXIgZWxlbWVudC4KICogQHBhcmFtIHtzdHJpbmd9IG91dHB1dElkIEVsZW1lbnQgSUQgb2YgdGhlIG91dHB1dCBkaXNwbGF5LgogKiBAcmV0dXJuIHshSXRlcmFibGU8IU9iamVjdD59IEl0ZXJhYmxlIG9mIG5leHQgc3RlcHMuCiAqLwpmdW5jdGlvbiogdXBsb2FkRmlsZXNTdGVwKGlucHV0SWQsIG91dHB1dElkKSB7CiAgY29uc3QgaW5wdXRFbGVtZW50ID0gZG9jdW1lbnQuZ2V0RWxlbWVudEJ5SWQoaW5wdXRJZCk7CiAgaW5wdXRFbGVtZW50LmRpc2FibGVkID0gZmFsc2U7CgogIGNvbnN0IG91dHB1dEVsZW1lbnQgPSBkb2N1bWVudC5nZXRFbGVtZW50QnlJZChvdXRwdXRJZCk7CiAgb3V0cHV0RWxlbWVudC5pbm5lckhUTUwgPSAnJzsKCiAgY29uc3QgcGlja2VkUHJvbWlzZSA9IG5ldyBQcm9taXNlKChyZXNvbHZlKSA9PiB7CiAgICBpbnB1dEVsZW1lbnQuYWRkRXZlbnRMaXN0ZW5lcignY2hhbmdlJywgKGUpID0+IHsKICAgICAgcmVzb2x2ZShlLnRhcmdldC5maWxlcyk7CiAgICB9KTsKICB9KTsKCiAgY29uc3QgY2FuY2VsID0gZG9jdW1lbnQuY3JlYXRlRWxlbWVudCgnYnV0dG9uJyk7CiAgaW5wdXRFbGVtZW50LnBhcmVudEVsZW1lbnQuYXBwZW5kQ2hpbGQoY2FuY2VsKTsKICBjYW5jZWwudGV4dENvbnRlbnQgPSAnQ2FuY2VsIHVwbG9hZCc7CiAgY29uc3QgY2FuY2VsUHJvbWlzZSA9IG5ldyBQcm9taXNlKChyZXNvbHZlKSA9PiB7CiAgICBjYW5jZWwub25jbGljayA9ICgpID0+IHsKICAgICAgcmVzb2x2ZShudWxsKTsKICAgIH07CiAgfSk7CgogIC8vIENhbmNlbCB1cGxvYWQgaWYgdXNlciBoYXNuJ3QgcGlja2VkIGFueXRoaW5nIGluIHRpbWVvdXQuCiAgY29uc3QgdGltZW91dFByb21pc2UgPSBuZXcgUHJvbWlzZSgocmVzb2x2ZSkgPT4gewogICAgc2V0VGltZW91dCgoKSA9PiB7CiAgICAgIHJlc29sdmUobnVsbCk7CiAgICB9LCBGSUxFX0NIQU5HRV9USU1FT1VUX01TKTsKICB9KTsKCiAgLy8gV2FpdCBmb3IgdGhlIHVzZXIgdG8gcGljayB0aGUgZmlsZXMuCiAgY29uc3QgZmlsZXMgPSB5aWVsZCB7CiAgICBwcm9taXNlOiBQcm9taXNlLnJhY2UoW3BpY2tlZFByb21pc2UsIHRpbWVvdXRQcm9taXNlLCBjYW5jZWxQcm9taXNlXSksCiAgICByZXNwb25zZTogewogICAgICBhY3Rpb246ICdzdGFydGluZycsCiAgICB9CiAgfTsKCiAgaWYgKCFmaWxlcykgewogICAgcmV0dXJuIHsKICAgICAgcmVzcG9uc2U6IHsKICAgICAgICBhY3Rpb246ICdjb21wbGV0ZScsCiAgICAgIH0KICAgIH07CiAgfQoKICBjYW5jZWwucmVtb3ZlKCk7CgogIC8vIERpc2FibGUgdGhlIGlucHV0IGVsZW1lbnQgc2luY2UgZnVydGhlciBwaWNrcyBhcmUgbm90IGFsbG93ZWQuCiAgaW5wdXRFbGVtZW50LmRpc2FibGVkID0gdHJ1ZTsKCiAgZm9yIChjb25zdCBmaWxlIG9mIGZpbGVzKSB7CiAgICBjb25zdCBsaSA9IGRvY3VtZW50LmNyZWF0ZUVsZW1lbnQoJ2xpJyk7CiAgICBsaS5hcHBlbmQoc3BhbihmaWxlLm5hbWUsIHtmb250V2VpZ2h0OiAnYm9sZCd9KSk7CiAgICBsaS5hcHBlbmQoc3BhbigKICAgICAgICBgKCR7ZmlsZS50eXBlIHx8ICduL2EnfSkgLSAke2ZpbGUuc2l6ZX0gYnl0ZXMsIGAgKwogICAgICAgIGBsYXN0IG1vZGlmaWVkOiAkewogICAgICAgICAgICBmaWxlLmxhc3RNb2RpZmllZERhdGUgPyBmaWxlLmxhc3RNb2RpZmllZERhdGUudG9Mb2NhbGVEYXRlU3RyaW5nKCkgOgogICAgICAgICAgICAgICAgICAgICAgICAgICAgICAgICAgICAnbi9hJ30gLSBgKSk7CiAgICBjb25zdCBwZXJjZW50ID0gc3BhbignMCUgZG9uZScpOwogICAgbGkuYXBwZW5kQ2hpbGQocGVyY2VudCk7CgogICAgb3V0cHV0RWxlbWVudC5hcHBlbmRDaGlsZChsaSk7CgogICAgY29uc3QgZmlsZURhdGFQcm9taXNlID0gbmV3IFByb21pc2UoKHJlc29sdmUpID0+IHsKICAgICAgY29uc3QgcmVhZGVyID0gbmV3IEZpbGVSZWFkZXIoKTsKICAgICAgcmVhZGVyLm9ubG9hZCA9IChlKSA9PiB7CiAgICAgICAgcmVzb2x2ZShlLnRhcmdldC5yZXN1bHQpOwogICAgICB9OwogICAgICByZWFkZXIucmVhZEFzQXJyYXlCdWZmZXIoZmlsZSk7CiAgICB9KTsKICAgIC8vIFdhaXQgZm9yIHRoZSBkYXRhIHRvIGJlIHJlYWR5LgogICAgbGV0IGZpbGVEYXRhID0geWllbGQgewogICAgICBwcm9taXNlOiBmaWxlRGF0YVByb21pc2UsCiAgICAgIHJlc3BvbnNlOiB7CiAgICAgICAgYWN0aW9uOiAnY29udGludWUnLAogICAgICB9CiAgICB9OwoKICAgIC8vIFVzZSBhIGNodW5rZWQgc2VuZGluZyB0byBhdm9pZCBtZXNzYWdlIHNpemUgbGltaXRzLiBTZWUgYi82MjExNTY2MC4KICAgIGxldCBwb3NpdGlvbiA9IDA7CiAgICB3aGlsZSAocG9zaXRpb24gPCBmaWxlRGF0YS5ieXRlTGVuZ3RoKSB7CiAgICAgIGNvbnN0IGxlbmd0aCA9IE1hdGgubWluKGZpbGVEYXRhLmJ5dGVMZW5ndGggLSBwb3NpdGlvbiwgTUFYX1BBWUxPQURfU0laRSk7CiAgICAgIGNvbnN0IGNodW5rID0gbmV3IFVpbnQ4QXJyYXkoZmlsZURhdGEsIHBvc2l0aW9uLCBsZW5ndGgpOwogICAgICBwb3NpdGlvbiArPSBsZW5ndGg7CgogICAgICBjb25zdCBiYXNlNjQgPSBidG9hKFN0cmluZy5mcm9tQ2hhckNvZGUuYXBwbHkobnVsbCwgY2h1bmspKTsKICAgICAgeWllbGQgewogICAgICAgIHJlc3BvbnNlOiB7CiAgICAgICAgICBhY3Rpb246ICdhcHBlbmQnLAogICAgICAgICAgZmlsZTogZmlsZS5uYW1lLAogICAgICAgICAgZGF0YTogYmFzZTY0LAogICAgICAgIH0sCiAgICAgIH07CiAgICAgIHBlcmNlbnQudGV4dENvbnRlbnQgPQogICAgICAgICAgYCR7TWF0aC5yb3VuZCgocG9zaXRpb24gLyBmaWxlRGF0YS5ieXRlTGVuZ3RoKSAqIDEwMCl9JSBkb25lYDsKICAgIH0KICB9CgogIC8vIEFsbCBkb25lLgogIHlpZWxkIHsKICAgIHJlc3BvbnNlOiB7CiAgICAgIGFjdGlvbjogJ2NvbXBsZXRlJywKICAgIH0KICB9Owp9CgpzY29wZS5nb29nbGUgPSBzY29wZS5nb29nbGUgfHwge307CnNjb3BlLmdvb2dsZS5jb2xhYiA9IHNjb3BlLmdvb2dsZS5jb2xhYiB8fCB7fTsKc2NvcGUuZ29vZ2xlLmNvbGFiLl9maWxlcyA9IHsKICBfdXBsb2FkRmlsZXMsCiAgX3VwbG9hZEZpbGVzQ29udGludWUsCn07Cn0pKHNlbGYpOwo=",
              "ok": true,
              "headers": [
                [
                  "content-type",
                  "application/javascript"
                ]
              ],
              "status": 200,
              "status_text": ""
            }
          },
          "base_uri": "https://localhost:8080/",
          "height": 74
        },
        "outputId": "33243dc5-e1af-4722-8ff6-60714a0d3c47"
      },
      "source": [
        "from google.colab import files\n",
        "src = list(files.upload().values())[0]"
      ],
      "execution_count": null,
      "outputs": [
        {
          "output_type": "display_data",
          "data": {
            "text/plain": [
              "<IPython.core.display.HTML object>"
            ],
            "text/html": [
              "\n",
              "     <input type=\"file\" id=\"files-68bed8a5-51b9-4091-b9d9-bd2ed516763b\" name=\"files[]\" multiple disabled />\n",
              "     <output id=\"result-68bed8a5-51b9-4091-b9d9-bd2ed516763b\">\n",
              "      Upload widget is only available when the cell has been executed in the\n",
              "      current browser session. Please rerun this cell to enable.\n",
              "      </output>\n",
              "      <script src=\"/nbextensions/google.colab/files.js\"></script> "
            ]
          },
          "metadata": {
            "tags": []
          }
        },
        {
          "output_type": "stream",
          "text": [
            "Saving utils.py to utils (1).py\n"
          ],
          "name": "stdout"
        }
      ]
    },
    {
      "cell_type": "code",
      "metadata": {
        "id": "TKU4vA-M8nQC"
      },
      "source": [
        "open('utils.py','wb').write(src)\n",
        "from utils import *"
      ],
      "execution_count": null,
      "outputs": []
    },
    {
      "cell_type": "markdown",
      "metadata": {
        "id": "p1DRNKYSx9C9"
      },
      "source": [
        "**utils.py is a python package having tickers for time series data. You can**\n",
        "\n",
        "**upload it using the above command. Recommend to download it using**\n",
        "https://pypi.org/project/python-utils/ **and storing in drive.**\n"
      ]
    },
    {
      "cell_type": "code",
      "metadata": {
        "id": "k9FesNZk4SEO"
      },
      "source": [
        "!pip install -U -q PyDrive\n",
        "from pydrive.auth import GoogleAuth\n",
        "from pydrive.drive import GoogleDrive\n",
        "from google.colab import auth\n",
        "from oauth2client.client import GoogleCredentials"
      ],
      "execution_count": null,
      "outputs": []
    },
    {
      "cell_type": "code",
      "metadata": {
        "id": "QvZKtTC94SHr"
      },
      "source": [
        "# Authenticate and create the PyDrive client.\n",
        "auth.authenticate_user()\n",
        "gauth = GoogleAuth()\n",
        "gauth.credentials = GoogleCredentials.get_application_default()\n",
        "drive = GoogleDrive(gauth)"
      ],
      "execution_count": null,
      "outputs": []
    },
    {
      "cell_type": "code",
      "metadata": {
        "id": "CNGkPPvw4Yvt"
      },
      "source": [
        "link = 'https://drive.google.com/open?id=1CQDa0VJP0cEKxO9hRpyxngnJIxYaVwTV' # The shareable link"
      ],
      "execution_count": null,
      "outputs": []
    },
    {
      "cell_type": "code",
      "metadata": {
        "id": "QmzxCTA74Y2U",
        "colab": {
          "base_uri": "https://localhost:8080/",
          "height": 34
        },
        "outputId": "5981948d-02c3-4935-f8a7-977ee853beeb"
      },
      "source": [
        "fluff, id = link.split('=')\n",
        "print (id) # Verify that you have everything after '='"
      ],
      "execution_count": null,
      "outputs": [
        {
          "output_type": "stream",
          "text": [
            "1CQDa0VJP0cEKxO9hRpyxngnJIxYaVwTV\n"
          ],
          "name": "stdout"
        }
      ]
    },
    {
      "cell_type": "code",
      "metadata": {
        "id": "U-rBC4sw41cM"
      },
      "source": [
        "downloaded = drive.CreateFile({'id':id})\n",
        "downloaded.GetContentFile('AMZN.csv')\n",
        "data_original = pd.read_csv('AMZN.csv')[::-1]"
      ],
      "execution_count": null,
      "outputs": []
    },
    {
      "cell_type": "code",
      "metadata": {
        "id": "9yxcx78fexbx",
        "colab": {
          "base_uri": "https://localhost:8080/",
          "height": 34
        },
        "outputId": "9a19b74d-9707-40e0-9086-ba3f268d02d6"
      },
      "source": [
        "\n",
        "\n",
        "import pandas as pd\n",
        "import matplotlib.pylab as plt\n",
        "\n",
        "from keras.models import Sequential\n",
        "from keras.layers.core import Dense, Dropout, Activation, Flatten\n",
        "from keras.layers.recurrent import LSTM, GRU\n",
        "from keras.layers import Convolution1D, MaxPooling1D, AtrousConvolution1D, RepeatVector\n",
        "from keras.callbacks import ModelCheckpoint, ReduceLROnPlateau, CSVLogger\n",
        "from keras.layers.wrappers import Bidirectional\n",
        "from keras import regularizers\n",
        "from keras.layers.normalization import BatchNormalization\n",
        "from keras.layers.advanced_activations import *\n",
        "from keras.optimizers import RMSprop, Adam, SGD, Nadam\n",
        "from keras.initializers import *\n",
        "\n",
        "import seaborn as sns\n",
        "sns.despine()\n"
      ],
      "execution_count": null,
      "outputs": [
        {
          "output_type": "display_data",
          "data": {
            "text/plain": [
              "<Figure size 432x288 with 0 Axes>"
            ]
          },
          "metadata": {
            "tags": []
          }
        }
      ]
    },
    {
      "cell_type": "markdown",
      "metadata": {
        "id": "0L07ek2nzSbm"
      },
      "source": [
        "**Imported all keras files**"
      ]
    },
    {
      "cell_type": "markdown",
      "metadata": {
        "id": "fLwgwSOMzYWj"
      },
      "source": [
        "# NEXT STEPS"
      ]
    },
    {
      "cell_type": "markdown",
      "metadata": {
        "id": "KJRpe70gexb0"
      },
      "source": [
        "**DATA MANIPULATION, NORMALIZATION AND EMA(Exponential moving average) CALCULATION**"
      ]
    },
    {
      "cell_type": "markdown",
      "metadata": {
        "id": "FfVkAA0oz05A"
      },
      "source": [
        "**WHAT I AM TRYING TO DO:**\n",
        "\n",
        "**INSTEAD OF MAE I WILL TRY TO MEASURE ACCURACY OF MY LSTM NETWORK BY CONVERTING THE REGRESSION PROBLEM INTO CLASSIFICATION.**\n",
        "\n",
        "**I WILL TRY TO PREDICT CLOSING PRICES DATAPOINT TO DATAPOINT AND SEE HOW WELL MY NORMALIZED DATASET CAN PREDICT THE CLOSING VALUES**"
      ]
    },
    {
      "cell_type": "code",
      "metadata": {
        "id": "T5ZAk09cexb1",
        "colab": {
          "base_uri": "https://localhost:8080/",
          "height": 689
        },
        "outputId": "8c8edc65-360f-439f-8eeb-c256e93d629c"
      },
      "source": [
        "#data_original = pd.read_csv('datastrat2.csv')[::-1]\n",
        "\n",
        "openp = data_original.ix[:, 'Open'].tolist()  #convert all OHLCV data into list formats so appending will be easy\n",
        "highp = data_original.ix[:, 'High'].tolist()\n",
        "lowp = data_original.ix[:, 'Low'].tolist()\n",
        "closep = data_original.ix[:, 'Close'].tolist()\n",
        "volumep = data_original.ix[:, 'Volume'].tolist()\n",
        "\n",
        "\n",
        "WINDOW = 30   #Keep a window of 30 days for EMA\n",
        "EMB_SIZE = 5\n",
        "STEP = 1\n",
        "FORECAST = 1 #One day ahead forecast as before\n",
        "X, Y = [], []\n",
        "for i in range(0, len(data_original), STEP):  #create a counter for data with step size 1\n",
        "    try:\n",
        "        o = openp[i:i+WINDOW]  #declare a window and sample through each stock price\n",
        "        h = highp[i:i+WINDOW]\n",
        "        l = lowp[i:i+WINDOW]\n",
        "        c = closep[i:i+WINDOW]\n",
        "        v = volumep[i:i+WINDOW]\n",
        "\n",
        "        o = (np.array(o) - np.mean(o)) / np.std(o)  # normalize the stock values by fiding differnce in array lenth and mean and dividing by standard dev\n",
        "        h = (np.array(h) - np.mean(h)) / np.std(h)\n",
        "        l = (np.array(l) - np.mean(l)) / np.std(l)\n",
        "        c = (np.array(c) - np.mean(c)) / np.std(c)\n",
        "        v = (np.array(v) - np.mean(v)) / np.std(v)\n",
        "\n",
        "        x_i = closep[i:i+WINDOW]           #create train for close price and add forecast for output price\n",
        "        y_i = closep[i+WINDOW+FORECAST]\n",
        "\n",
        "        last_close = x_i[-1]\n",
        "        next_close = y_i\n",
        "\n",
        "        if last_close < next_close:\n",
        "            y_i = [1, 0]\n",
        "        else:\n",
        "            y_i = [0, 1]\n",
        "\n",
        "        x_i = np.column_stack((o, h, l, c, v))   #do not consider any tickers that we conidered in former model.\n",
        "                                                  #by creating close price treshold we create our own theshold indicator\n",
        "\n",
        "    except Exception as e:\n",
        "        break\n",
        "\n",
        "    X.append(x_i)\n",
        "    Y.append(y_i)\n",
        "\n",
        "X, Y = np.array(X), np.array(Y)\n",
        "X_train, X_test, Y_train, Y_test = create_Xt_Yt(X, Y)\n",
        "\n",
        "X_train = np.reshape(X_train, (X_train.shape[0], X_train.shape[1], EMB_SIZE))  #reshape train so that can be fed into LSTM network\n",
        "X_test = np.reshape(X_test, (X_test.shape[0], X_test.shape[1], EMB_SIZE))\n"
      ],
      "execution_count": null,
      "outputs": [
        {
          "output_type": "stream",
          "text": [
            "/usr/local/lib/python2.7/dist-packages/ipykernel_launcher.py:2: DeprecationWarning: \n",
            ".ix is deprecated. Please use\n",
            ".loc for label based indexing or\n",
            ".iloc for positional indexing\n",
            "\n",
            "See the documentation here:\n",
            "http://pandas.pydata.org/pandas-docs/stable/indexing.html#ix-indexer-is-deprecated\n",
            "  \n",
            "/usr/local/lib/python2.7/dist-packages/ipykernel_launcher.py:3: DeprecationWarning: \n",
            ".ix is deprecated. Please use\n",
            ".loc for label based indexing or\n",
            ".iloc for positional indexing\n",
            "\n",
            "See the documentation here:\n",
            "http://pandas.pydata.org/pandas-docs/stable/indexing.html#ix-indexer-is-deprecated\n",
            "  This is separate from the ipykernel package so we can avoid doing imports until\n",
            "/usr/local/lib/python2.7/dist-packages/ipykernel_launcher.py:4: DeprecationWarning: \n",
            ".ix is deprecated. Please use\n",
            ".loc for label based indexing or\n",
            ".iloc for positional indexing\n",
            "\n",
            "See the documentation here:\n",
            "http://pandas.pydata.org/pandas-docs/stable/indexing.html#ix-indexer-is-deprecated\n",
            "  after removing the cwd from sys.path.\n",
            "/usr/local/lib/python2.7/dist-packages/ipykernel_launcher.py:5: DeprecationWarning: \n",
            ".ix is deprecated. Please use\n",
            ".loc for label based indexing or\n",
            ".iloc for positional indexing\n",
            "\n",
            "See the documentation here:\n",
            "http://pandas.pydata.org/pandas-docs/stable/indexing.html#ix-indexer-is-deprecated\n",
            "  \"\"\"\n",
            "/usr/local/lib/python2.7/dist-packages/ipykernel_launcher.py:6: DeprecationWarning: \n",
            ".ix is deprecated. Please use\n",
            ".loc for label based indexing or\n",
            ".iloc for positional indexing\n",
            "\n",
            "See the documentation here:\n",
            "http://pandas.pydata.org/pandas-docs/stable/indexing.html#ix-indexer-is-deprecated\n",
            "  \n"
          ],
          "name": "stderr"
        }
      ]
    },
    {
      "cell_type": "markdown",
      "metadata": {
        "id": "Nyd8Sd1texb3"
      },
      "source": [
        "**My Algorithm:**\n",
        "\n",
        "**1. create train for close price and add forecast for output price**\n",
        "\n",
        "**2. create train for close price and add forecast for output price**\n",
        "\n",
        "**3. do not consider any tickers that we conidered in former model.**\n",
        "\n",
        "**4. by creating close price treshold we create our own theshold indicator**"
      ]
    },
    {
      "cell_type": "markdown",
      "metadata": {
        "id": "QMN0hu4pexb4"
      },
      "source": [
        "**USE LSTM NETWORK ARCHITECTURE**"
      ]
    },
    {
      "cell_type": "code",
      "metadata": {
        "id": "PnAxdqL8exb4"
      },
      "source": [
        "\n",
        "def mean_pred(X_test, Y_test):\n",
        "    return K.mean(Y_test)\n",
        "\n",
        "def build_model(inputs, output_size, neurons, activ_func=\"relu\",\n",
        "                dropout=0.10, loss=\"mae\", optimizer=\"adam\"):\n",
        "\n",
        "    model = Sequential()\n",
        "\n",
        "    model.add(LSTM(neurons, input_shape=(WINDOW,EMB_SIZE)))\n",
        "    model.add(Dropout(dropout))\n",
        "    model.add(Dense(units=output_size))\n",
        "    model.add(Activation(activ_func))\n",
        "\n",
        "    model.compile(loss=loss, optimizer=optimizer, metrics=['accuracy', mean_pred])\n",
        "    return model"
      ],
      "execution_count": null,
      "outputs": []
    },
    {
      "cell_type": "code",
      "metadata": {
        "id": "K3Vz5MR8exb6",
        "colab": {
          "base_uri": "https://localhost:8080/",
          "height": 1000
        },
        "outputId": "384263f9-8257-474d-8a8f-bf9ea2d89ca4"
      },
      "source": [
        "nn_model = build_model(X_train, output_size=2, neurons = 32)\n",
        "# model output is next price normalised to 10th previous closing price\n",
        "# train model on data\n",
        "# note: eth_history contains information on the training error per epoch\n",
        "nn_history = nn_model.fit(X_train, Y_train,\n",
        "                            epochs=20, batch_size=256, verbose=1,  validation_data=(X_test, Y_test),shuffle=True)"
      ],
      "execution_count": null,
      "outputs": [
        {
          "output_type": "stream",
          "text": [
            "W0816 15:04:35.385684 139769722800000 deprecation_wrapper.py:119] From /usr/local/lib/python2.7/dist-packages/keras/backend/tensorflow_backend.py:74: The name tf.get_default_graph is deprecated. Please use tf.compat.v1.get_default_graph instead.\n",
            "\n",
            "W0816 15:04:35.392836 139769722800000 deprecation_wrapper.py:119] From /usr/local/lib/python2.7/dist-packages/keras/backend/tensorflow_backend.py:517: The name tf.placeholder is deprecated. Please use tf.compat.v1.placeholder instead.\n",
            "\n",
            "W0816 15:04:35.404253 139769722800000 deprecation_wrapper.py:119] From /usr/local/lib/python2.7/dist-packages/keras/backend/tensorflow_backend.py:4138: The name tf.random_uniform is deprecated. Please use tf.random.uniform instead.\n",
            "\n",
            "W0816 15:04:35.625117 139769722800000 deprecation_wrapper.py:119] From /usr/local/lib/python2.7/dist-packages/keras/backend/tensorflow_backend.py:133: The name tf.placeholder_with_default is deprecated. Please use tf.compat.v1.placeholder_with_default instead.\n",
            "\n",
            "W0816 15:04:35.635040 139769722800000 deprecation.py:506] From /usr/local/lib/python2.7/dist-packages/keras/backend/tensorflow_backend.py:3445: calling dropout (from tensorflow.python.ops.nn_ops) with keep_prob is deprecated and will be removed in a future version.\n",
            "Instructions for updating:\n",
            "Please use `rate` instead of `keep_prob`. Rate should be set to `rate = 1 - keep_prob`.\n",
            "W0816 15:04:35.663301 139769722800000 deprecation_wrapper.py:119] From /usr/local/lib/python2.7/dist-packages/keras/optimizers.py:790: The name tf.train.Optimizer is deprecated. Please use tf.compat.v1.train.Optimizer instead.\n",
            "\n",
            "W0816 15:04:35.943429 139769722800000 deprecation.py:323] From /usr/local/lib/python2.7/dist-packages/tensorflow/python/ops/math_grad.py:1250: where (from tensorflow.python.ops.array_ops) is deprecated and will be removed in a future version.\n",
            "Instructions for updating:\n",
            "Use tf.where in 2.0, which has the same broadcast rule as np.where\n",
            "W0816 15:04:36.463542 139769722800000 deprecation_wrapper.py:119] From /usr/local/lib/python2.7/dist-packages/keras/backend/tensorflow_backend.py:986: The name tf.assign_add is deprecated. Please use tf.compat.v1.assign_add instead.\n",
            "\n"
          ],
          "name": "stderr"
        },
        {
          "output_type": "stream",
          "text": [
            "Train on 40973 samples, validate on 4553 samples\n",
            "Epoch 1/20\n",
            "40973/40973 [==============================] - 15s 357us/step - loss: 0.4681 - acc: 0.5405 - mean_pred: 0.2660 - val_loss: 0.4484 - val_acc: 0.5519 - val_mean_pred: 0.4311\n",
            "Epoch 2/20\n",
            "40973/40973 [==============================] - 12s 284us/step - loss: 0.3996 - acc: 0.6535 - mean_pred: 0.4482 - val_loss: 0.4029 - val_acc: 0.6440 - val_mean_pred: 0.4054\n",
            "Epoch 3/20\n",
            "40973/40973 [==============================] - 12s 283us/step - loss: 0.3740 - acc: 0.6887 - mean_pred: 0.4195 - val_loss: 0.3941 - val_acc: 0.6563 - val_mean_pred: 0.4590\n",
            "Epoch 4/20\n",
            "40973/40973 [==============================] - 12s 283us/step - loss: 0.3656 - acc: 0.6949 - mean_pred: 0.4187 - val_loss: 0.3886 - val_acc: 0.6613 - val_mean_pred: 0.3830\n",
            "Epoch 5/20\n",
            "40973/40973 [==============================] - 12s 283us/step - loss: 0.3616 - acc: 0.6977 - mean_pred: 0.4176 - val_loss: 0.3866 - val_acc: 0.6640 - val_mean_pred: 0.3846\n",
            "Epoch 6/20\n",
            "40973/40973 [==============================] - 12s 283us/step - loss: 0.3593 - acc: 0.6988 - mean_pred: 0.4167 - val_loss: 0.3858 - val_acc: 0.6648 - val_mean_pred: 0.4083\n",
            "Epoch 7/20\n",
            "40973/40973 [==============================] - 12s 282us/step - loss: 0.3571 - acc: 0.7008 - mean_pred: 0.4211 - val_loss: 0.3828 - val_acc: 0.6646 - val_mean_pred: 0.4091\n",
            "Epoch 8/20\n",
            "40973/40973 [==============================] - 12s 282us/step - loss: 0.3551 - acc: 0.7010 - mean_pred: 0.4202 - val_loss: 0.3827 - val_acc: 0.6637 - val_mean_pred: 0.3940\n",
            "Epoch 9/20\n",
            "40973/40973 [==============================] - 11s 280us/step - loss: 0.3536 - acc: 0.7018 - mean_pred: 0.4215 - val_loss: 0.3825 - val_acc: 0.6655 - val_mean_pred: 0.4081\n",
            "Epoch 10/20\n",
            "40973/40973 [==============================] - 11s 280us/step - loss: 0.3518 - acc: 0.7017 - mean_pred: 0.4220 - val_loss: 0.3848 - val_acc: 0.6602 - val_mean_pred: 0.4227\n",
            "Epoch 11/20\n",
            "40973/40973 [==============================] - 11s 280us/step - loss: 0.3503 - acc: 0.7025 - mean_pred: 0.4256 - val_loss: 0.3810 - val_acc: 0.6666 - val_mean_pred: 0.4353\n",
            "Epoch 12/20\n",
            "40973/40973 [==============================] - 12s 281us/step - loss: 0.3497 - acc: 0.7049 - mean_pred: 0.4260 - val_loss: 0.3794 - val_acc: 0.6646 - val_mean_pred: 0.4427\n",
            "Epoch 13/20\n",
            "40973/40973 [==============================] - 11s 280us/step - loss: 0.3479 - acc: 0.7034 - mean_pred: 0.4301 - val_loss: 0.3781 - val_acc: 0.6646 - val_mean_pred: 0.4340\n",
            "Epoch 14/20\n",
            "40973/40973 [==============================] - 11s 280us/step - loss: 0.3468 - acc: 0.7045 - mean_pred: 0.4304 - val_loss: 0.3816 - val_acc: 0.6618 - val_mean_pred: 0.4452\n",
            "Epoch 15/20\n",
            "40973/40973 [==============================] - 11s 280us/step - loss: 0.3453 - acc: 0.7056 - mean_pred: 0.4313 - val_loss: 0.3760 - val_acc: 0.6690 - val_mean_pred: 0.4333\n",
            "Epoch 16/20\n",
            "40973/40973 [==============================] - 12s 282us/step - loss: 0.3440 - acc: 0.7063 - mean_pred: 0.4382 - val_loss: 0.3739 - val_acc: 0.6694 - val_mean_pred: 0.4423\n",
            "Epoch 17/20\n",
            "40973/40973 [==============================] - 11s 280us/step - loss: 0.3423 - acc: 0.7055 - mean_pred: 0.4390 - val_loss: 0.3732 - val_acc: 0.6659 - val_mean_pred: 0.4467\n",
            "Epoch 18/20\n",
            "40973/40973 [==============================] - 12s 281us/step - loss: 0.3412 - acc: 0.7046 - mean_pred: 0.4410 - val_loss: 0.3712 - val_acc: 0.6697 - val_mean_pred: 0.4465\n",
            "Epoch 19/20\n",
            "40973/40973 [==============================] - 12s 282us/step - loss: 0.3396 - acc: 0.7069 - mean_pred: 0.4433 - val_loss: 0.3723 - val_acc: 0.6670 - val_mean_pred: 0.4578\n",
            "Epoch 20/20\n",
            "40973/40973 [==============================] - 12s 281us/step - loss: 0.3388 - acc: 0.7060 - mean_pred: 0.4423 - val_loss: 0.3680 - val_acc: 0.6719 - val_mean_pred: 0.4445\n"
          ],
          "name": "stdout"
        }
      ]
    },
    {
      "cell_type": "markdown",
      "metadata": {
        "id": "EIcP_G10-VZg"
      },
      "source": [
        "**TRAINING ACCURACY AT 70.6%**"
      ]
    },
    {
      "cell_type": "code",
      "metadata": {
        "id": "oZukq1gWexb8",
        "colab": {
          "base_uri": "https://localhost:8080/",
          "height": 269
        },
        "outputId": "75531933-b7d8-4e94-f4a8-4828d2a48181"
      },
      "source": [
        "nn_model.summary()\n"
      ],
      "execution_count": null,
      "outputs": [
        {
          "output_type": "stream",
          "text": [
            "_________________________________________________________________\n",
            "Layer (type)                 Output Shape              Param #   \n",
            "=================================================================\n",
            "lstm_1 (LSTM)                (None, 32)                4864      \n",
            "_________________________________________________________________\n",
            "dropout_1 (Dropout)          (None, 32)                0         \n",
            "_________________________________________________________________\n",
            "dense_1 (Dense)              (None, 2)                 66        \n",
            "_________________________________________________________________\n",
            "activation_1 (Activation)    (None, 2)                 0         \n",
            "=================================================================\n",
            "Total params: 4,930\n",
            "Trainable params: 4,930\n",
            "Non-trainable params: 0\n",
            "_________________________________________________________________\n"
          ],
          "name": "stdout"
        }
      ]
    },
    {
      "cell_type": "code",
      "metadata": {
        "id": "WoJOq_rgexb-",
        "colab": {
          "base_uri": "https://localhost:8080/",
          "height": 50
        },
        "outputId": "2a4e54e8-204e-407b-d0a6-7950b426b27b"
      },
      "source": [
        "acc = nn_model.evaluate(X_test, Y_test, batch_size=16)\n",
        "print('Test accuracy:', acc)"
      ],
      "execution_count": null,
      "outputs": [
        {
          "output_type": "stream",
          "text": [
            "4553/4553 [==============================] - 7s 1ms/step\n",
            "('Test accuracy:', [0.36795512862240065, 0.6718647046427452, 0.44446592047637096])\n"
          ],
          "name": "stdout"
        }
      ]
    },
    {
      "cell_type": "markdown",
      "metadata": {
        "id": "FTliD7NC-j2Y"
      },
      "source": [
        "**TESTING ACCURACY AT 67.18%**"
      ]
    },
    {
      "cell_type": "code",
      "metadata": {
        "id": "bi51jqQgexcA",
        "colab": {
          "base_uri": "https://localhost:8080/",
          "height": 295
        },
        "outputId": "1141bd92-717c-4256-d6bd-958e81322765"
      },
      "source": [
        "#Plotting training data loss and validation data loss\n",
        "plt.plot(nn_history.history['acc'], label = 'trained data')\n",
        "plt.plot(nn_history.history['val_acc'], label = 'validated data')\n",
        "plt.legend()\n",
        "plt.xlabel('Epochs')\n",
        "plt.ylabel('Accuracy')\n",
        "plt.title('Measure of accuracy')\n",
        "plt.show()"
      ],
      "execution_count": null,
      "outputs": [
        {
          "output_type": "display_data",
          "data": {
            "image/png": "[encoded data removed]",
            "text/plain": [
              "<Figure size 432x288 with 1 Axes>"
            ]
          },
          "metadata": {
            "tags": []
          }
        }
      ]
    },
    {
      "cell_type": "markdown",
      "metadata": {
        "id": "wGOS0SMX-s2D"
      },
      "source": [
        "**A GOOD MODEL. NORMALIZED VALUES DIFFERENCE AT 0.025 SO NOT OVERFIT OR UNDERFIT.**"
      ]
    },
    {
      "cell_type": "code",
      "metadata": {
        "id": "FFhxD0rZexcC",
        "colab": {
          "base_uri": "https://localhost:8080/",
          "height": 295
        },
        "outputId": "8e9c1c1a-6a10-4a79-c111-43007de91d81"
      },
      "source": [
        "#plateau:\n",
        "plt.plot(nn_history.history['loss'], label = 'training curve')\n",
        "plt.plot(nn_history.history['val_loss'], label = 'testing curve')\n",
        "plt.legend()\n",
        "plt.xlabel('Epochs')\n",
        "plt.ylabel('Training loss')\n",
        "plt.title('Measure of plateau')\n",
        "plt.show()"
      ],
      "execution_count": null,
      "outputs": [
        {
          "output_type": "display_data",
          "data": {
            "image/png": "[encoded data removed]",
            "text/plain": [
              "<Figure size 432x288 with 1 Axes>"
            ]
          },
          "metadata": {
            "tags": []
          }
        }
      ]
    },
    {
      "cell_type": "markdown",
      "metadata": {
        "id": "5umLf4MEexcE"
      },
      "source": [
        "**SUMMARY OF THIS STRATEGY:\n",
        "        great results compared to just pure stock prediction and even\n",
        "        previous simple moving average algorithm\n",
        "I will now try to find the best LSTM model by tweaking epoch, cost function, actvation function and other parameters.\n",
        "Go down for other network architectures-mainly GRU and conv1D**"
      ]
    },
    {
      "cell_type": "markdown",
      "metadata": {
        "id": "PN79AKBH_A3L"
      },
      "source": [
        "**HYPERPARAMETER TUNING**"
      ]
    },
    {
      "cell_type": "markdown",
      "metadata": {
        "id": "oia4KmT2excF"
      },
      "source": [
        "**For LSTM: change activation function, cost functionand other params. We know which ones are good for seq model by previous analysis. Trying a few combinations based on past analysis:**\n",
        "\n",
        "**1.elu and selu with rmsprop and sgd along with mse and logcosh**\n",
        "\n",
        "**2.will try epochs 100 and 50**\n",
        "\n",
        "**3. will try initialzers random uniform and zeros**"
      ]
    },
    {
      "cell_type": "code",
      "metadata": {
        "id": "PMqGTlVJexcG"
      },
      "source": [
        "#elu with mse and rmsprop. epoch of 100.\n",
        "#initializer random uniform.\n",
        "def mean_pred(X_test, Y_test):\n",
        "    return K.mean(Y_test)\n",
        "\n",
        "def build_model(inputs, output_size, neurons, activ_func=\"elu\",\n",
        "                dropout=0.10, loss=\"mse\", optimizer=\"rmsprop\"):\n",
        "\n",
        "    model = Sequential()\n",
        "\n",
        "    model.add(LSTM(neurons, input_shape=(WINDOW,EMB_SIZE)))\n",
        "    model.add(Dropout(dropout))\n",
        "    model.add(Dense(units=output_size, kernel_initializer='random_uniform'))\n",
        "    model.add(Activation(activ_func))\n",
        "\n",
        "    model.compile(loss=loss, optimizer=optimizer, metrics=['accuracy', mean_pred])\n",
        "    return model"
      ],
      "execution_count": null,
      "outputs": []
    },
    {
      "cell_type": "code",
      "metadata": {
        "id": "UeMsiLZaexcI",
        "colab": {
          "base_uri": "https://localhost:8080/",
          "height": 1000
        },
        "outputId": "adab8fc7-da00-41b1-c51a-4830e88c5e53"
      },
      "source": [
        "nn_model = build_model(X_train, output_size=2, neurons = 32)\n",
        "# model output is next price normalised to 10th previous closing price\n",
        "# train model on data\n",
        "# note: eth_history contains information on the training error per epoch\n",
        "nn_history = nn_model.fit(X_train, Y_train,\n",
        "                            epochs=100, batch_size=256, verbose=1,  validation_data=(X_test, Y_test),shuffle=True)"
      ],
      "execution_count": null,
      "outputs": [
        {
          "output_type": "stream",
          "text": [
            "Train on 40973 samples, validate on 4553 samples\n",
            "Epoch 1/100\n",
            "40973/40973 [==============================] - 12s 300us/step - loss: 0.2644 - acc: 0.5440 - mean_pred: 0.4557 - val_loss: 0.2433 - val_acc: 0.6029 - val_mean_pred: 0.5067\n",
            "Epoch 2/100\n",
            "40973/40973 [==============================] - 12s 283us/step - loss: 0.2275 - acc: 0.6393 - mean_pred: 0.4993 - val_loss: 0.2280 - val_acc: 0.6093 - val_mean_pred: 0.4928\n",
            "Epoch 3/100\n",
            "40973/40973 [==============================] - 11s 280us/step - loss: 0.2069 - acc: 0.6881 - mean_pred: 0.4966 - val_loss: 0.2198 - val_acc: 0.6499 - val_mean_pred: 0.4768\n",
            "Epoch 4/100\n",
            "40973/40973 [==============================] - 12s 283us/step - loss: 0.2033 - acc: 0.6948 - mean_pred: 0.4965 - val_loss: 0.2204 - val_acc: 0.6473 - val_mean_pred: 0.4920\n",
            "Epoch 5/100\n",
            "40973/40973 [==============================] - 12s 281us/step - loss: 0.2014 - acc: 0.6991 - mean_pred: 0.4968 - val_loss: 0.2163 - val_acc: 0.6589 - val_mean_pred: 0.4988\n",
            "Epoch 6/100\n",
            "40973/40973 [==============================] - 12s 283us/step - loss: 0.2007 - acc: 0.7005 - mean_pred: 0.4969 - val_loss: 0.2157 - val_acc: 0.6631 - val_mean_pred: 0.5008\n",
            "Epoch 7/100\n",
            "40973/40973 [==============================] - 12s 284us/step - loss: 0.1999 - acc: 0.7016 - mean_pred: 0.4966 - val_loss: 0.2265 - val_acc: 0.6413 - val_mean_pred: 0.5194\n",
            "Epoch 8/100\n",
            "40973/40973 [==============================] - 12s 281us/step - loss: 0.1993 - acc: 0.7009 - mean_pred: 0.4971 - val_loss: 0.2154 - val_acc: 0.6642 - val_mean_pred: 0.5119\n",
            "Epoch 9/100\n",
            "40973/40973 [==============================] - 11s 279us/step - loss: 0.1989 - acc: 0.7017 - mean_pred: 0.4969 - val_loss: 0.2211 - val_acc: 0.6532 - val_mean_pred: 0.4846\n",
            "Epoch 10/100\n",
            "40973/40973 [==============================] - 11s 281us/step - loss: 0.1982 - acc: 0.7043 - mean_pred: 0.4970 - val_loss: 0.2242 - val_acc: 0.6446 - val_mean_pred: 0.4879\n",
            "Epoch 11/100\n",
            "40973/40973 [==============================] - 12s 281us/step - loss: 0.1979 - acc: 0.7022 - mean_pred: 0.4968 - val_loss: 0.2183 - val_acc: 0.6536 - val_mean_pred: 0.4996\n",
            "Epoch 12/100\n",
            "40973/40973 [==============================] - 11s 279us/step - loss: 0.1970 - acc: 0.7038 - mean_pred: 0.4973 - val_loss: 0.2216 - val_acc: 0.6569 - val_mean_pred: 0.4897\n",
            "Epoch 13/100\n",
            "40973/40973 [==============================] - 12s 281us/step - loss: 0.1966 - acc: 0.7049 - mean_pred: 0.4967 - val_loss: 0.2187 - val_acc: 0.6598 - val_mean_pred: 0.5067\n",
            "Epoch 14/100\n",
            "40973/40973 [==============================] - 12s 283us/step - loss: 0.1962 - acc: 0.7058 - mean_pred: 0.4976 - val_loss: 0.2210 - val_acc: 0.6604 - val_mean_pred: 0.5239\n",
            "Epoch 15/100\n",
            "40973/40973 [==============================] - 12s 281us/step - loss: 0.1954 - acc: 0.7059 - mean_pred: 0.4976 - val_loss: 0.2236 - val_acc: 0.6607 - val_mean_pred: 0.5008\n",
            "Epoch 16/100\n",
            "40973/40973 [==============================] - 11s 280us/step - loss: 0.1954 - acc: 0.7048 - mean_pred: 0.4974 - val_loss: 0.2243 - val_acc: 0.6391 - val_mean_pred: 0.4887\n",
            "Epoch 17/100\n",
            "40973/40973 [==============================] - 11s 279us/step - loss: 0.1948 - acc: 0.7057 - mean_pred: 0.4973 - val_loss: 0.2225 - val_acc: 0.6574 - val_mean_pred: 0.5062\n",
            "Epoch 18/100\n",
            "40973/40973 [==============================] - 11s 281us/step - loss: 0.1945 - acc: 0.7059 - mean_pred: 0.4976 - val_loss: 0.2147 - val_acc: 0.6659 - val_mean_pred: 0.4914\n",
            "Epoch 19/100\n",
            "40973/40973 [==============================] - 11s 279us/step - loss: 0.1942 - acc: 0.7062 - mean_pred: 0.4976 - val_loss: 0.2138 - val_acc: 0.6655 - val_mean_pred: 0.5045\n",
            "Epoch 20/100\n",
            "40973/40973 [==============================] - 11s 278us/step - loss: 0.1939 - acc: 0.7078 - mean_pred: 0.4977 - val_loss: 0.2150 - val_acc: 0.6607 - val_mean_pred: 0.4940\n",
            "Epoch 21/100\n",
            "40973/40973 [==============================] - 11s 279us/step - loss: 0.1938 - acc: 0.7069 - mean_pred: 0.4979 - val_loss: 0.2132 - val_acc: 0.6664 - val_mean_pred: 0.4913\n",
            "Epoch 22/100\n",
            "40973/40973 [==============================] - 11s 278us/step - loss: 0.1935 - acc: 0.7071 - mean_pred: 0.4979 - val_loss: 0.2136 - val_acc: 0.6600 - val_mean_pred: 0.4944\n",
            "Epoch 23/100\n",
            "40973/40973 [==============================] - 11s 278us/step - loss: 0.1933 - acc: 0.7074 - mean_pred: 0.4978 - val_loss: 0.2146 - val_acc: 0.6657 - val_mean_pred: 0.4997\n",
            "Epoch 24/100\n",
            "40973/40973 [==============================] - 11s 277us/step - loss: 0.1930 - acc: 0.7081 - mean_pred: 0.4978 - val_loss: 0.2244 - val_acc: 0.6611 - val_mean_pred: 0.4930\n",
            "Epoch 25/100\n",
            "40973/40973 [==============================] - 11s 279us/step - loss: 0.1925 - acc: 0.7085 - mean_pred: 0.4982 - val_loss: 0.2214 - val_acc: 0.6556 - val_mean_pred: 0.4993\n",
            "Epoch 26/100\n",
            "40973/40973 [==============================] - 11s 278us/step - loss: 0.1922 - acc: 0.7089 - mean_pred: 0.4981 - val_loss: 0.2172 - val_acc: 0.6624 - val_mean_pred: 0.4963\n",
            "Epoch 27/100\n",
            "40973/40973 [==============================] - 11s 279us/step - loss: 0.1927 - acc: 0.7097 - mean_pred: 0.4979 - val_loss: 0.2185 - val_acc: 0.6640 - val_mean_pred: 0.5011\n",
            "Epoch 28/100\n",
            "40973/40973 [==============================] - 11s 280us/step - loss: 0.1919 - acc: 0.7092 - mean_pred: 0.4981 - val_loss: 0.2234 - val_acc: 0.6558 - val_mean_pred: 0.5037\n",
            "Epoch 29/100\n",
            "40973/40973 [==============================] - 11s 279us/step - loss: 0.1921 - acc: 0.7082 - mean_pred: 0.4983 - val_loss: 0.2119 - val_acc: 0.6712 - val_mean_pred: 0.4983\n",
            "Epoch 30/100\n",
            "40973/40973 [==============================] - 11s 279us/step - loss: 0.1916 - acc: 0.7096 - mean_pred: 0.4982 - val_loss: 0.2166 - val_acc: 0.6615 - val_mean_pred: 0.4984\n",
            "Epoch 31/100\n",
            "40973/40973 [==============================] - 11s 279us/step - loss: 0.1911 - acc: 0.7119 - mean_pred: 0.4982 - val_loss: 0.2177 - val_acc: 0.6686 - val_mean_pred: 0.4966\n",
            "Epoch 32/100\n",
            "40973/40973 [==============================] - 11s 279us/step - loss: 0.1915 - acc: 0.7099 - mean_pred: 0.4984 - val_loss: 0.2147 - val_acc: 0.6651 - val_mean_pred: 0.4959\n",
            "Epoch 33/100\n",
            "40973/40973 [==============================] - 11s 281us/step - loss: 0.1913 - acc: 0.7090 - mean_pred: 0.4986 - val_loss: 0.2129 - val_acc: 0.6692 - val_mean_pred: 0.4977\n",
            "Epoch 34/100\n",
            "40973/40973 [==============================] - 11s 279us/step - loss: 0.1911 - acc: 0.7112 - mean_pred: 0.4983 - val_loss: 0.2194 - val_acc: 0.6637 - val_mean_pred: 0.5034\n",
            "Epoch 35/100\n",
            "40973/40973 [==============================] - 11s 280us/step - loss: 0.1907 - acc: 0.7115 - mean_pred: 0.4985 - val_loss: 0.2172 - val_acc: 0.6763 - val_mean_pred: 0.5022\n",
            "Epoch 36/100\n",
            "40973/40973 [==============================] - 11s 279us/step - loss: 0.1908 - acc: 0.7105 - mean_pred: 0.4986 - val_loss: 0.2180 - val_acc: 0.6668 - val_mean_pred: 0.5010\n",
            "Epoch 37/100\n",
            "40973/40973 [==============================] - 11s 279us/step - loss: 0.1905 - acc: 0.7113 - mean_pred: 0.4984 - val_loss: 0.2129 - val_acc: 0.6725 - val_mean_pred: 0.4945\n",
            "Epoch 38/100\n",
            "40973/40973 [==============================] - 11s 278us/step - loss: 0.1902 - acc: 0.7117 - mean_pred: 0.4987 - val_loss: 0.2137 - val_acc: 0.6719 - val_mean_pred: 0.4977\n",
            "Epoch 39/100\n",
            "40973/40973 [==============================] - 11s 279us/step - loss: 0.1904 - acc: 0.7120 - mean_pred: 0.4985 - val_loss: 0.2169 - val_acc: 0.6684 - val_mean_pred: 0.5006\n",
            "Epoch 40/100\n",
            "40973/40973 [==============================] - 11s 279us/step - loss: 0.1901 - acc: 0.7080 - mean_pred: 0.4988 - val_loss: 0.2146 - val_acc: 0.6721 - val_mean_pred: 0.5006\n",
            "Epoch 41/100\n",
            "40973/40973 [==============================] - 11s 279us/step - loss: 0.1901 - acc: 0.7113 - mean_pred: 0.4988 - val_loss: 0.2152 - val_acc: 0.6716 - val_mean_pred: 0.4985\n",
            "Epoch 42/100\n",
            "40973/40973 [==============================] - 12s 281us/step - loss: 0.1899 - acc: 0.7117 - mean_pred: 0.4986 - val_loss: 0.2137 - val_acc: 0.6648 - val_mean_pred: 0.4988\n",
            "Epoch 43/100\n",
            "40973/40973 [==============================] - 11s 279us/step - loss: 0.1893 - acc: 0.7142 - mean_pred: 0.4990 - val_loss: 0.2104 - val_acc: 0.6760 - val_mean_pred: 0.4993\n",
            "Epoch 44/100\n",
            "40973/40973 [==============================] - 11s 280us/step - loss: 0.1894 - acc: 0.7140 - mean_pred: 0.4988 - val_loss: 0.2153 - val_acc: 0.6640 - val_mean_pred: 0.4981\n",
            "Epoch 45/100\n",
            "40973/40973 [==============================] - 11s 278us/step - loss: 0.1894 - acc: 0.7121 - mean_pred: 0.4990 - val_loss: 0.2111 - val_acc: 0.6730 - val_mean_pred: 0.4976\n",
            "Epoch 46/100\n",
            "40973/40973 [==============================] - 12s 281us/step - loss: 0.1893 - acc: 0.7134 - mean_pred: 0.4989 - val_loss: 0.2147 - val_acc: 0.6754 - val_mean_pred: 0.4986\n",
            "Epoch 47/100\n",
            "40973/40973 [==============================] - 11s 281us/step - loss: 0.1892 - acc: 0.7140 - mean_pred: 0.4990 - val_loss: 0.2115 - val_acc: 0.6688 - val_mean_pred: 0.4976\n",
            "Epoch 48/100\n",
            "40973/40973 [==============================] - 12s 282us/step - loss: 0.1889 - acc: 0.7119 - mean_pred: 0.4989 - val_loss: 0.2140 - val_acc: 0.6679 - val_mean_pred: 0.4999\n",
            "Epoch 49/100\n",
            "40973/40973 [==============================] - 12s 281us/step - loss: 0.1886 - acc: 0.7148 - mean_pred: 0.4991 - val_loss: 0.2171 - val_acc: 0.6699 - val_mean_pred: 0.5012\n",
            "Epoch 50/100\n",
            "40973/40973 [==============================] - 11s 280us/step - loss: 0.1886 - acc: 0.7134 - mean_pred: 0.4993 - val_loss: 0.2173 - val_acc: 0.6736 - val_mean_pred: 0.4992\n",
            "Epoch 51/100\n",
            "40973/40973 [==============================] - 11s 279us/step - loss: 0.1885 - acc: 0.7143 - mean_pred: 0.4990 - val_loss: 0.2108 - val_acc: 0.6760 - val_mean_pred: 0.4982\n",
            "Epoch 52/100\n",
            "40973/40973 [==============================] - 11s 279us/step - loss: 0.1884 - acc: 0.7150 - mean_pred: 0.4992 - val_loss: 0.2137 - val_acc: 0.6725 - val_mean_pred: 0.5000\n",
            "Epoch 53/100\n",
            "40973/40973 [==============================] - 11s 278us/step - loss: 0.1884 - acc: 0.7155 - mean_pred: 0.4993 - val_loss: 0.2103 - val_acc: 0.6763 - val_mean_pred: 0.4981\n",
            "Epoch 54/100\n",
            "40973/40973 [==============================] - 11s 280us/step - loss: 0.1878 - acc: 0.7158 - mean_pred: 0.4992 - val_loss: 0.2148 - val_acc: 0.6745 - val_mean_pred: 0.5000\n",
            "Epoch 55/100\n",
            "40973/40973 [==============================] - 11s 279us/step - loss: 0.1884 - acc: 0.7147 - mean_pred: 0.4992 - val_loss: 0.2114 - val_acc: 0.6820 - val_mean_pred: 0.4998\n",
            "Epoch 56/100\n",
            "40973/40973 [==============================] - 12s 281us/step - loss: 0.1879 - acc: 0.7149 - mean_pred: 0.4993 - val_loss: 0.2128 - val_acc: 0.6736 - val_mean_pred: 0.4988\n",
            "Epoch 57/100\n",
            "40973/40973 [==============================] - 11s 280us/step - loss: 0.1877 - acc: 0.7158 - mean_pred: 0.4992 - val_loss: 0.2125 - val_acc: 0.6752 - val_mean_pred: 0.4999\n",
            "Epoch 58/100\n",
            "40973/40973 [==============================] - 11s 279us/step - loss: 0.1872 - acc: 0.7171 - mean_pred: 0.4994 - val_loss: 0.2122 - val_acc: 0.6749 - val_mean_pred: 0.4992\n",
            "Epoch 59/100\n",
            "40973/40973 [==============================] - 11s 280us/step - loss: 0.1877 - acc: 0.7158 - mean_pred: 0.4993 - val_loss: 0.2114 - val_acc: 0.6765 - val_mean_pred: 0.5002\n",
            "Epoch 60/100\n",
            "40973/40973 [==============================] - 11s 279us/step - loss: 0.1876 - acc: 0.7163 - mean_pred: 0.4994 - val_loss: 0.2116 - val_acc: 0.6771 - val_mean_pred: 0.5004\n",
            "Epoch 61/100\n",
            "40973/40973 [==============================] - 11s 279us/step - loss: 0.1874 - acc: 0.7172 - mean_pred: 0.4994 - val_loss: 0.2134 - val_acc: 0.6804 - val_mean_pred: 0.4992\n",
            "Epoch 62/100\n",
            "40973/40973 [==============================] - 11s 279us/step - loss: 0.1871 - acc: 0.7177 - mean_pred: 0.4994 - val_loss: 0.2125 - val_acc: 0.6760 - val_mean_pred: 0.4993\n",
            "Epoch 63/100\n",
            "40973/40973 [==============================] - 11s 278us/step - loss: 0.1869 - acc: 0.7163 - mean_pred: 0.4995 - val_loss: 0.2091 - val_acc: 0.6749 - val_mean_pred: 0.4991\n",
            "Epoch 64/100\n",
            "40973/40973 [==============================] - 11s 280us/step - loss: 0.1871 - acc: 0.7162 - mean_pred: 0.4995 - val_loss: 0.2097 - val_acc: 0.6756 - val_mean_pred: 0.4995\n",
            "Epoch 65/100\n",
            "40973/40973 [==============================] - 11s 280us/step - loss: 0.1866 - acc: 0.7172 - mean_pred: 0.4995 - val_loss: 0.2141 - val_acc: 0.6791 - val_mean_pred: 0.4999\n",
            "Epoch 66/100\n",
            "40973/40973 [==============================] - 11s 279us/step - loss: 0.1866 - acc: 0.7164 - mean_pred: 0.4995 - val_loss: 0.2153 - val_acc: 0.6732 - val_mean_pred: 0.4995\n",
            "Epoch 67/100\n",
            "40973/40973 [==============================] - 11s 280us/step - loss: 0.1865 - acc: 0.7177 - mean_pred: 0.4995 - val_loss: 0.2138 - val_acc: 0.6833 - val_mean_pred: 0.4995\n",
            "Epoch 68/100\n",
            "40973/40973 [==============================] - 11s 279us/step - loss: 0.1861 - acc: 0.7170 - mean_pred: 0.4995 - val_loss: 0.2111 - val_acc: 0.6719 - val_mean_pred: 0.4990\n",
            "Epoch 69/100\n",
            "40973/40973 [==============================] - 11s 279us/step - loss: 0.1859 - acc: 0.7185 - mean_pred: 0.4996 - val_loss: 0.2108 - val_acc: 0.6787 - val_mean_pred: 0.4997\n",
            "Epoch 70/100\n",
            "40973/40973 [==============================] - 11s 280us/step - loss: 0.1860 - acc: 0.7182 - mean_pred: 0.4996 - val_loss: 0.2110 - val_acc: 0.6769 - val_mean_pred: 0.4993\n",
            "Epoch 71/100\n",
            "40973/40973 [==============================] - 11s 279us/step - loss: 0.1858 - acc: 0.7185 - mean_pred: 0.4996 - val_loss: 0.2124 - val_acc: 0.6822 - val_mean_pred: 0.4996\n",
            "Epoch 72/100\n",
            "40973/40973 [==============================] - 11s 278us/step - loss: 0.1857 - acc: 0.7196 - mean_pred: 0.4996 - val_loss: 0.2148 - val_acc: 0.6778 - val_mean_pred: 0.4995\n",
            "Epoch 73/100\n",
            "40973/40973 [==============================] - 11s 280us/step - loss: 0.1853 - acc: 0.7191 - mean_pred: 0.4996 - val_loss: 0.2161 - val_acc: 0.6758 - val_mean_pred: 0.4999\n",
            "Epoch 74/100\n",
            "40973/40973 [==============================] - 11s 279us/step - loss: 0.1856 - acc: 0.7197 - mean_pred: 0.4996 - val_loss: 0.2124 - val_acc: 0.6813 - val_mean_pred: 0.4998\n",
            "Epoch 75/100\n",
            "40973/40973 [==============================] - 11s 279us/step - loss: 0.1852 - acc: 0.7211 - mean_pred: 0.4997 - val_loss: 0.2146 - val_acc: 0.6675 - val_mean_pred: 0.4995\n",
            "Epoch 76/100\n",
            "40973/40973 [==============================] - 11s 280us/step - loss: 0.1848 - acc: 0.7203 - mean_pred: 0.4997 - val_loss: 0.2131 - val_acc: 0.6782 - val_mean_pred: 0.4997\n",
            "Epoch 77/100\n",
            "40973/40973 [==============================] - 11s 278us/step - loss: 0.1846 - acc: 0.7217 - mean_pred: 0.4997 - val_loss: 0.2119 - val_acc: 0.6846 - val_mean_pred: 0.4997\n",
            "Epoch 78/100\n",
            "40973/40973 [==============================] - 11s 279us/step - loss: 0.1847 - acc: 0.7213 - mean_pred: 0.4997 - val_loss: 0.2121 - val_acc: 0.6782 - val_mean_pred: 0.4998\n",
            "Epoch 79/100\n",
            "40973/40973 [==============================] - 11s 278us/step - loss: 0.1845 - acc: 0.7201 - mean_pred: 0.4997 - val_loss: 0.2123 - val_acc: 0.6747 - val_mean_pred: 0.4998\n",
            "Epoch 80/100\n",
            "40973/40973 [==============================] - 11s 279us/step - loss: 0.1842 - acc: 0.7216 - mean_pred: 0.4997 - val_loss: 0.2117 - val_acc: 0.6877 - val_mean_pred: 0.4996\n",
            "Epoch 81/100\n",
            "40973/40973 [==============================] - 11s 279us/step - loss: 0.1839 - acc: 0.7231 - mean_pred: 0.4997 - val_loss: 0.2123 - val_acc: 0.6866 - val_mean_pred: 0.4997\n",
            "Epoch 82/100\n",
            "40973/40973 [==============================] - 11s 280us/step - loss: 0.1835 - acc: 0.7221 - mean_pred: 0.4997 - val_loss: 0.2121 - val_acc: 0.6811 - val_mean_pred: 0.4998\n",
            "Epoch 83/100\n",
            "40973/40973 [==============================] - 12s 281us/step - loss: 0.1840 - acc: 0.7221 - mean_pred: 0.4997 - val_loss: 0.2118 - val_acc: 0.6815 - val_mean_pred: 0.4997\n",
            "Epoch 84/100\n",
            "40973/40973 [==============================] - 11s 279us/step - loss: 0.1834 - acc: 0.7236 - mean_pred: 0.4998 - val_loss: 0.2116 - val_acc: 0.6853 - val_mean_pred: 0.4995\n",
            "Epoch 85/100\n",
            "40973/40973 [==============================] - 11s 279us/step - loss: 0.1833 - acc: 0.7233 - mean_pred: 0.4997 - val_loss: 0.2141 - val_acc: 0.6725 - val_mean_pred: 0.4998\n",
            "Epoch 86/100\n",
            "40973/40973 [==============================] - 11s 280us/step - loss: 0.1831 - acc: 0.7247 - mean_pred: 0.4997 - val_loss: 0.2143 - val_acc: 0.6760 - val_mean_pred: 0.4996\n",
            "Epoch 87/100\n",
            "40973/40973 [==============================] - 11s 277us/step - loss: 0.1832 - acc: 0.7247 - mean_pred: 0.4997 - val_loss: 0.2106 - val_acc: 0.6879 - val_mean_pred: 0.4997\n",
            "Epoch 88/100\n",
            "40973/40973 [==============================] - 11s 279us/step - loss: 0.1826 - acc: 0.7271 - mean_pred: 0.4997 - val_loss: 0.2099 - val_acc: 0.6892 - val_mean_pred: 0.4997\n",
            "Epoch 89/100\n",
            "40973/40973 [==============================] - 11s 280us/step - loss: 0.1825 - acc: 0.7256 - mean_pred: 0.4998 - val_loss: 0.2129 - val_acc: 0.6853 - val_mean_pred: 0.4998\n",
            "Epoch 90/100\n",
            "40973/40973 [==============================] - 11s 279us/step - loss: 0.1823 - acc: 0.7250 - mean_pred: 0.4998 - val_loss: 0.2099 - val_acc: 0.6844 - val_mean_pred: 0.4998\n",
            "Epoch 91/100\n",
            "40973/40973 [==============================] - 11s 280us/step - loss: 0.1823 - acc: 0.7253 - mean_pred: 0.4998 - val_loss: 0.2124 - val_acc: 0.6798 - val_mean_pred: 0.4998\n",
            "Epoch 92/100\n",
            "40973/40973 [==============================] - 11s 280us/step - loss: 0.1821 - acc: 0.7270 - mean_pred: 0.4998 - val_loss: 0.2115 - val_acc: 0.6857 - val_mean_pred: 0.4997\n",
            "Epoch 93/100\n",
            "40973/40973 [==============================] - 11s 280us/step - loss: 0.1816 - acc: 0.7281 - mean_pred: 0.4997 - val_loss: 0.2103 - val_acc: 0.6853 - val_mean_pred: 0.4998\n",
            "Epoch 94/100\n",
            "40973/40973 [==============================] - 11s 280us/step - loss: 0.1817 - acc: 0.7262 - mean_pred: 0.4998 - val_loss: 0.2136 - val_acc: 0.6846 - val_mean_pred: 0.5000\n",
            "Epoch 95/100\n",
            "40973/40973 [==============================] - 11s 279us/step - loss: 0.1813 - acc: 0.7285 - mean_pred: 0.4998 - val_loss: 0.2125 - val_acc: 0.6905 - val_mean_pred: 0.4999\n",
            "Epoch 96/100\n",
            "40973/40973 [==============================] - 11s 280us/step - loss: 0.1812 - acc: 0.7272 - mean_pred: 0.4998 - val_loss: 0.2123 - val_acc: 0.6877 - val_mean_pred: 0.4998\n",
            "Epoch 97/100\n",
            "40973/40973 [==============================] - 11s 279us/step - loss: 0.1812 - acc: 0.7288 - mean_pred: 0.4998 - val_loss: 0.2102 - val_acc: 0.6842 - val_mean_pred: 0.4997\n",
            "Epoch 98/100\n",
            "40973/40973 [==============================] - 11s 280us/step - loss: 0.1810 - acc: 0.7290 - mean_pred: 0.4998 - val_loss: 0.2123 - val_acc: 0.6828 - val_mean_pred: 0.4997\n",
            "Epoch 99/100\n",
            "40973/40973 [==============================] - 11s 280us/step - loss: 0.1806 - acc: 0.7284 - mean_pred: 0.4998 - val_loss: 0.2109 - val_acc: 0.6831 - val_mean_pred: 0.4997\n",
            "Epoch 100/100\n",
            "40973/40973 [==============================] - 11s 280us/step - loss: 0.1805 - acc: 0.7291 - mean_pred: 0.4998 - val_loss: 0.2104 - val_acc: 0.6839 - val_mean_pred: 0.4998\n"
          ],
          "name": "stdout"
        }
      ]
    },
    {
      "cell_type": "code",
      "metadata": {
        "id": "3r_pvc8rexcJ",
        "colab": {
          "base_uri": "https://localhost:8080/",
          "height": 269
        },
        "outputId": "06b1c937-fd47-41c5-863b-be561b0b8e13"
      },
      "source": [
        "nn_model.summary()"
      ],
      "execution_count": null,
      "outputs": [
        {
          "output_type": "stream",
          "text": [
            "_________________________________________________________________\n",
            "Layer (type)                 Output Shape              Param #   \n",
            "=================================================================\n",
            "lstm_2 (LSTM)                (None, 32)                4864      \n",
            "_________________________________________________________________\n",
            "dropout_2 (Dropout)          (None, 32)                0         \n",
            "_________________________________________________________________\n",
            "dense_2 (Dense)              (None, 2)                 66        \n",
            "_________________________________________________________________\n",
            "activation_2 (Activation)    (None, 2)                 0         \n",
            "=================================================================\n",
            "Total params: 4,930\n",
            "Trainable params: 4,930\n",
            "Non-trainable params: 0\n",
            "_________________________________________________________________\n"
          ],
          "name": "stdout"
        }
      ]
    },
    {
      "cell_type": "code",
      "metadata": {
        "id": "CXmQRN0aexcL",
        "colab": {
          "base_uri": "https://localhost:8080/",
          "height": 50
        },
        "outputId": "b3080e36-e6c5-4e85-ba86-52fe2532993f"
      },
      "source": [
        "acc = nn_model.evaluate(X_test, Y_test, batch_size=16)\n",
        "print('Test accuracy:', acc)"
      ],
      "execution_count": null,
      "outputs": [
        {
          "output_type": "stream",
          "text": [
            "4553/4553 [==============================] - 7s 2ms/step\n",
            "('Test accuracy:', [0.21036483873358514, 0.6839446518844283, 0.499842308934589])\n"
          ],
          "name": "stdout"
        }
      ]
    },
    {
      "cell_type": "markdown",
      "metadata": {
        "id": "CGMHFgPQF5pb"
      },
      "source": [
        "**Test Accuracy is at 68.39%**"
      ]
    },
    {
      "cell_type": "markdown",
      "metadata": {
        "id": "yrYWxXOWHAWG"
      },
      "source": [
        "**Plotting training data loss and validation data loss**"
      ]
    },
    {
      "cell_type": "code",
      "metadata": {
        "id": "nZY6fRQeexcN",
        "colab": {
          "base_uri": "https://localhost:8080/",
          "height": 295
        },
        "outputId": "d70ee196-5df9-4324-d15c-6c370922a4b8"
      },
      "source": [
        "plt.plot(nn_history.history['acc'], label = 'trained data')\n",
        "plt.plot(nn_history.history['val_acc'], label = 'validated data')\n",
        "plt.legend()\n",
        "plt.xlabel('Epochs')\n",
        "plt.ylabel('Accuracy')\n",
        "plt.title('Measure of accuracy')\n",
        "plt.show()"
      ],
      "execution_count": null,
      "outputs": [
        {
          "output_type": "display_data",
          "data": {
            "image/png": "[encoded data removed]",
            "text/plain": [
              "<Figure size 432x288 with 1 Axes>"
            ]
          },
          "metadata": {
            "tags": []
          }
        }
      ]
    },
    {
      "cell_type": "markdown",
      "metadata": {
        "id": "6ButieWJHE4s"
      },
      "source": [
        "**Model is perfectly fit if not slightly overfit but we trained for 100 epochs so that is expected**"
      ]
    },
    {
      "cell_type": "code",
      "metadata": {
        "id": "YtdyhmNPexcQ",
        "colab": {
          "base_uri": "https://localhost:8080/",
          "height": 295
        },
        "outputId": "d563c3a3-009b-471c-f47b-1b71170eaeb4"
      },
      "source": [
        "plt.plot(nn_history.history['loss'], label = 'training curve')\n",
        "plt.plot(nn_history.history['val_loss'], label = 'testing curve')\n",
        "plt.legend()\n",
        "plt.xlabel('Epochs')\n",
        "plt.ylabel('Training loss')\n",
        "plt.title('Measure of plateau')\n",
        "plt.show()"
      ],
      "execution_count": null,
      "outputs": [
        {
          "output_type": "display_data",
          "data": {
            "image/png": "[encoded data removed]",
            "text/plain": [
              "<Figure size 432x288 with 1 Axes>"
            ]
          },
          "metadata": {
            "tags": []
          }
        }
      ]
    },
    {
      "cell_type": "markdown",
      "metadata": {
        "id": "2UmlBy9nHU3_"
      },
      "source": [
        "**Measuring the training loss to recheck model**"
      ]
    },
    {
      "cell_type": "markdown",
      "metadata": {
        "id": "rneMkPa9GwJR"
      },
      "source": [
        "**More Hyperparameter tuning: selu with logcosh amd sgd. epoch of 35. initializer zeros**"
      ]
    },
    {
      "cell_type": "code",
      "metadata": {
        "id": "4lRvaj_WexcT"
      },
      "source": [
        "def mean_pred(X_test, Y_test):\n",
        "    return K.mean(Y_test)\n",
        "\n",
        "def build_model(inputs, output_size, neurons, activ_func=\"selu\",\n",
        "                dropout=0.10, loss=\"logcosh\", optimizer=\"sgd\"):\n",
        "\n",
        "    model = Sequential()\n",
        "\n",
        "    model.add(LSTM(neurons, input_shape=(WINDOW,EMB_SIZE)))\n",
        "    model.add(Dropout(dropout))\n",
        "    model.add(Dense(units=output_size, kernel_initializer='random_uniform'))\n",
        "    model.add(Activation(activ_func))\n",
        "\n",
        "    model.compile(loss=loss, optimizer=optimizer, metrics=['accuracy', mean_pred])\n",
        "    return model"
      ],
      "execution_count": null,
      "outputs": []
    },
    {
      "cell_type": "code",
      "metadata": {
        "id": "9ZPjnGEjexcV",
        "colab": {
          "base_uri": "https://localhost:8080/",
          "height": 1000
        },
        "outputId": "c5d7bf82-cdd8-4f46-ba71-3b1fb5e4216b"
      },
      "source": [
        "nn_model = build_model(X_train, output_size=2, neurons = 32)\n",
        "# model output is next price normalised to 10th previous closing price\n",
        "# train model on data\n",
        "# note: eth_history contains information on the training error per epoch\n",
        "nn_history = nn_model.fit(X_train, Y_train,\n",
        "                            epochs=35, batch_size=256, verbose=1,  validation_data=(X_test, Y_test),shuffle=True)"
      ],
      "execution_count": null,
      "outputs": [
        {
          "output_type": "stream",
          "text": [
            "Train on 40973 samples, validate on 4553 samples\n",
            "Epoch 1/35\n",
            "40973/40973 [==============================] - 13s 309us/step - loss: 0.1720 - acc: 0.5163 - mean_pred: 0.1431 - val_loss: 0.1441 - val_acc: 0.5032 - val_mean_pred: 0.2543\n",
            "Epoch 2/35\n",
            "40973/40973 [==============================] - 12s 282us/step - loss: 0.1321 - acc: 0.5312 - mean_pred: 0.3270 - val_loss: 0.1262 - val_acc: 0.5036 - val_mean_pred: 0.3795\n",
            "Epoch 3/35\n",
            "40973/40973 [==============================] - 12s 284us/step - loss: 0.1225 - acc: 0.5314 - mean_pred: 0.4162 - val_loss: 0.1218 - val_acc: 0.5036 - val_mean_pred: 0.4406\n",
            "Epoch 4/35\n",
            "40973/40973 [==============================] - 12s 282us/step - loss: 0.1202 - acc: 0.5314 - mean_pred: 0.4593 - val_loss: 0.1207 - val_acc: 0.5036 - val_mean_pred: 0.4705\n",
            "Epoch 5/35\n",
            "40973/40973 [==============================] - 12s 281us/step - loss: 0.1195 - acc: 0.5314 - mean_pred: 0.4801 - val_loss: 0.1204 - val_acc: 0.5036 - val_mean_pred: 0.4851\n",
            "Epoch 6/35\n",
            "40973/40973 [==============================] - 12s 282us/step - loss: 0.1193 - acc: 0.5314 - mean_pred: 0.4901 - val_loss: 0.1202 - val_acc: 0.5036 - val_mean_pred: 0.4923\n",
            "Epoch 7/35\n",
            "40973/40973 [==============================] - 12s 281us/step - loss: 0.1192 - acc: 0.5314 - mean_pred: 0.4950 - val_loss: 0.1202 - val_acc: 0.5036 - val_mean_pred: 0.4959\n",
            "Epoch 8/35\n",
            "40973/40973 [==============================] - 12s 281us/step - loss: 0.1191 - acc: 0.5315 - mean_pred: 0.4974 - val_loss: 0.1201 - val_acc: 0.5036 - val_mean_pred: 0.4978\n",
            "Epoch 9/35\n",
            "40973/40973 [==============================] - 12s 281us/step - loss: 0.1191 - acc: 0.5315 - mean_pred: 0.4986 - val_loss: 0.1201 - val_acc: 0.5038 - val_mean_pred: 0.4988\n",
            "Epoch 10/35\n",
            "40973/40973 [==============================] - 11s 280us/step - loss: 0.1190 - acc: 0.5318 - mean_pred: 0.4992 - val_loss: 0.1200 - val_acc: 0.5041 - val_mean_pred: 0.4993\n",
            "Epoch 11/35\n",
            "40973/40973 [==============================] - 12s 282us/step - loss: 0.1190 - acc: 0.5320 - mean_pred: 0.4995 - val_loss: 0.1199 - val_acc: 0.5038 - val_mean_pred: 0.4996\n",
            "Epoch 12/35\n",
            "40973/40973 [==============================] - 12s 282us/step - loss: 0.1189 - acc: 0.5325 - mean_pred: 0.4997 - val_loss: 0.1199 - val_acc: 0.5038 - val_mean_pred: 0.4997\n",
            "Epoch 13/35\n",
            "40973/40973 [==============================] - 12s 282us/step - loss: 0.1188 - acc: 0.5336 - mean_pred: 0.4998 - val_loss: 0.1198 - val_acc: 0.5041 - val_mean_pred: 0.4997\n",
            "Epoch 14/35\n",
            "40973/40973 [==============================] - 12s 281us/step - loss: 0.1188 - acc: 0.5340 - mean_pred: 0.4998 - val_loss: 0.1198 - val_acc: 0.5045 - val_mean_pred: 0.4998\n",
            "Epoch 15/35\n",
            "40973/40973 [==============================] - 12s 281us/step - loss: 0.1187 - acc: 0.5349 - mean_pred: 0.4998 - val_loss: 0.1198 - val_acc: 0.5052 - val_mean_pred: 0.4998\n",
            "Epoch 16/35\n",
            "40973/40973 [==============================] - 12s 283us/step - loss: 0.1187 - acc: 0.5362 - mean_pred: 0.4999 - val_loss: 0.1197 - val_acc: 0.5056 - val_mean_pred: 0.4999\n",
            "Epoch 17/35\n",
            "40973/40973 [==============================] - 11s 280us/step - loss: 0.1186 - acc: 0.5372 - mean_pred: 0.4999 - val_loss: 0.1196 - val_acc: 0.5063 - val_mean_pred: 0.4999\n",
            "Epoch 18/35\n",
            "40973/40973 [==============================] - 12s 282us/step - loss: 0.1185 - acc: 0.5387 - mean_pred: 0.4999 - val_loss: 0.1196 - val_acc: 0.5063 - val_mean_pred: 0.4999\n",
            "Epoch 19/35\n",
            "40973/40973 [==============================] - 11s 280us/step - loss: 0.1185 - acc: 0.5392 - mean_pred: 0.4999 - val_loss: 0.1196 - val_acc: 0.5069 - val_mean_pred: 0.5000\n",
            "Epoch 20/35\n",
            "40973/40973 [==============================] - 12s 281us/step - loss: 0.1184 - acc: 0.5406 - mean_pred: 0.4999 - val_loss: 0.1196 - val_acc: 0.5071 - val_mean_pred: 0.4999\n",
            "Epoch 21/35\n",
            "40973/40973 [==============================] - 12s 282us/step - loss: 0.1183 - acc: 0.5407 - mean_pred: 0.4999 - val_loss: 0.1195 - val_acc: 0.5085 - val_mean_pred: 0.4999\n",
            "Epoch 22/35\n",
            "40973/40973 [==============================] - 12s 281us/step - loss: 0.1183 - acc: 0.5426 - mean_pred: 0.4999 - val_loss: 0.1194 - val_acc: 0.5111 - val_mean_pred: 0.5000\n",
            "Epoch 23/35\n",
            "40973/40973 [==============================] - 12s 282us/step - loss: 0.1182 - acc: 0.5453 - mean_pred: 0.5000 - val_loss: 0.1194 - val_acc: 0.5111 - val_mean_pred: 0.4999\n",
            "Epoch 24/35\n",
            "40973/40973 [==============================] - 12s 281us/step - loss: 0.1181 - acc: 0.5448 - mean_pred: 0.4999 - val_loss: 0.1193 - val_acc: 0.5113 - val_mean_pred: 0.4999\n",
            "Epoch 25/35\n",
            "40973/40973 [==============================] - 12s 282us/step - loss: 0.1181 - acc: 0.5467 - mean_pred: 0.4999 - val_loss: 0.1192 - val_acc: 0.5120 - val_mean_pred: 0.4999\n",
            "Epoch 26/35\n",
            "40973/40973 [==============================] - 11s 280us/step - loss: 0.1180 - acc: 0.5488 - mean_pred: 0.4999 - val_loss: 0.1192 - val_acc: 0.5133 - val_mean_pred: 0.4999\n",
            "Epoch 27/35\n",
            "40973/40973 [==============================] - 12s 283us/step - loss: 0.1179 - acc: 0.5507 - mean_pred: 0.4999 - val_loss: 0.1191 - val_acc: 0.5148 - val_mean_pred: 0.4999\n",
            "Epoch 28/35\n",
            "40973/40973 [==============================] - 12s 281us/step - loss: 0.1179 - acc: 0.5527 - mean_pred: 0.4999 - val_loss: 0.1191 - val_acc: 0.5168 - val_mean_pred: 0.4999\n",
            "Epoch 29/35\n",
            "40973/40973 [==============================] - 12s 282us/step - loss: 0.1178 - acc: 0.5546 - mean_pred: 0.4999 - val_loss: 0.1190 - val_acc: 0.5183 - val_mean_pred: 0.5000\n",
            "Epoch 30/35\n",
            "40973/40973 [==============================] - 11s 279us/step - loss: 0.1177 - acc: 0.5565 - mean_pred: 0.4999 - val_loss: 0.1190 - val_acc: 0.5188 - val_mean_pred: 0.5000\n",
            "Epoch 31/35\n",
            "40973/40973 [==============================] - 12s 281us/step - loss: 0.1177 - acc: 0.5569 - mean_pred: 0.5000 - val_loss: 0.1189 - val_acc: 0.5197 - val_mean_pred: 0.4999\n",
            "Epoch 32/35\n",
            "40973/40973 [==============================] - 12s 281us/step - loss: 0.1176 - acc: 0.5581 - mean_pred: 0.4999 - val_loss: 0.1189 - val_acc: 0.5194 - val_mean_pred: 0.5000\n",
            "Epoch 33/35\n",
            "40973/40973 [==============================] - 12s 281us/step - loss: 0.1176 - acc: 0.5579 - mean_pred: 0.4999 - val_loss: 0.1188 - val_acc: 0.5210 - val_mean_pred: 0.5000\n",
            "Epoch 34/35\n",
            "40973/40973 [==============================] - 12s 282us/step - loss: 0.1174 - acc: 0.5604 - mean_pred: 0.5000 - val_loss: 0.1187 - val_acc: 0.5245 - val_mean_pred: 0.5000\n",
            "Epoch 35/35\n",
            "40973/40973 [==============================] - 12s 281us/step - loss: 0.1173 - acc: 0.5617 - mean_pred: 0.5000 - val_loss: 0.1187 - val_acc: 0.5254 - val_mean_pred: 0.4999\n"
          ],
          "name": "stdout"
        }
      ]
    },
    {
      "cell_type": "code",
      "metadata": {
        "id": "13AZedetexcX",
        "colab": {
          "base_uri": "https://localhost:8080/",
          "height": 269
        },
        "outputId": "1ec0ca88-9b59-4a63-a702-087f1961d8fe"
      },
      "source": [
        "nn_model.summary()"
      ],
      "execution_count": null,
      "outputs": [
        {
          "output_type": "stream",
          "text": [
            "_________________________________________________________________\n",
            "Layer (type)                 Output Shape              Param #   \n",
            "=================================================================\n",
            "lstm_3 (LSTM)                (None, 32)                4864      \n",
            "_________________________________________________________________\n",
            "dropout_3 (Dropout)          (None, 32)                0         \n",
            "_________________________________________________________________\n",
            "dense_3 (Dense)              (None, 2)                 66        \n",
            "_________________________________________________________________\n",
            "activation_3 (Activation)    (None, 2)                 0         \n",
            "=================================================================\n",
            "Total params: 4,930\n",
            "Trainable params: 4,930\n",
            "Non-trainable params: 0\n",
            "_________________________________________________________________\n"
          ],
          "name": "stdout"
        }
      ]
    },
    {
      "cell_type": "code",
      "metadata": {
        "id": "RP2K9L_6excb",
        "colab": {
          "base_uri": "https://localhost:8080/",
          "height": 50
        },
        "outputId": "47575a5d-0760-43dd-9587-3d0432ca3010"
      },
      "source": [
        "acc = nn_model.evaluate(X_test, Y_test, batch_size=16)\n",
        "print('Test accuracy:', acc)"
      ],
      "execution_count": null,
      "outputs": [
        {
          "output_type": "stream",
          "text": [
            "4553/4553 [==============================] - 7s 2ms/step\n",
            "('Test accuracy:', [0.11868744594708344, 0.5253678893103014, 0.49994405417449655])\n"
          ],
          "name": "stdout"
        }
      ]
    },
    {
      "cell_type": "markdown",
      "metadata": {
        "id": "TjqMZDeqHymh"
      },
      "source": [
        "**Accuracy at 52.53%**"
      ]
    },
    {
      "cell_type": "markdown",
      "metadata": {
        "id": "vodfKu9YH8vT"
      },
      "source": [
        "**Plotting training data loss and validation data loss**\n",
        "\n",
        "**As seeb data is overfit and doesn't do great with selu and logcosh because logcosh could remove non-linearity of data**"
      ]
    },
    {
      "cell_type": "code",
      "metadata": {
        "id": "PvhRexaSexcf",
        "colab": {
          "base_uri": "https://localhost:8080/",
          "height": 295
        },
        "outputId": "599b56f0-80c9-4ea5-8ec4-deedf423d500"
      },
      "source": [
        "plt.plot(nn_history.history['acc'], label = 'trained data')\n",
        "plt.plot(nn_history.history['val_acc'], label = 'validated data')\n",
        "plt.legend()\n",
        "plt.xlabel('Epochs')\n",
        "plt.ylabel('Accuracy')\n",
        "plt.title('Measure of accuracy')\n",
        "plt.show()"
      ],
      "execution_count": null,
      "outputs": [
        {
          "output_type": "display_data",
          "data": {
            "image/png": "[encoded data removed]",
            "text/plain": [
              "<Figure size 432x288 with 1 Axes>"
            ]
          },
          "metadata": {
            "tags": []
          }
        }
      ]
    },
    {
      "cell_type": "code",
      "metadata": {
        "id": "IPiIOWVwexck",
        "colab": {
          "base_uri": "https://localhost:8080/",
          "height": 295
        },
        "outputId": "251efd53-5434-4f5e-e779-8027e3253497"
      },
      "source": [
        "plt.plot(nn_history.history['loss'], label = 'training curve')\n",
        "plt.plot(nn_history.history['val_loss'], label = 'testing curve')\n",
        "plt.legend()\n",
        "plt.xlabel('Epochs')\n",
        "plt.ylabel('Training loss')\n",
        "plt.title('Measure of plateau')\n",
        "plt.show()"
      ],
      "execution_count": null,
      "outputs": [
        {
          "output_type": "display_data",
          "data": {
            "image/png": "[encoded data removed]",
            "text/plain": [
              "<Figure size 432x288 with 1 Axes>"
            ]
          },
          "metadata": {
            "tags": []
          }
        }
      ]
    },
    {
      "cell_type": "markdown",
      "metadata": {
        "id": "jWLCeZDNITcw"
      },
      "source": [
        "**Not a lot of training and testing loss**"
      ]
    },
    {
      "cell_type": "markdown",
      "metadata": {
        "id": "e14za5AJLoMJ"
      },
      "source": [
        "**More Hyperparamete tuning: Create a LSTM model with relu as activation function, mae as loss function, adam as optimizer and train for 50 epochs.**"
      ]
    },
    {
      "cell_type": "code",
      "metadata": {
        "id": "3h8Ba4AIexcn"
      },
      "source": [
        "\n",
        "def mean_pred(X_test, Y_test):\n",
        "    return K.mean(Y_test)\n",
        "\n",
        "def build_model(inputs, output_size, neurons, activ_func=\"relu\",\n",
        "                dropout=0.10, loss=\"mae\", optimizer=\"adam\"):\n",
        "\n",
        "    model = Sequential()\n",
        "\n",
        "    model.add(LSTM(neurons, input_shape=(WINDOW,EMB_SIZE)))\n",
        "    model.add(Dropout(dropout))\n",
        "    model.add(Dense(units=output_size))\n",
        "    model.add(Activation(activ_func))\n",
        "\n",
        "    model.compile(loss=loss, optimizer=optimizer, metrics=['accuracy', mean_pred])\n",
        "    return model"
      ],
      "execution_count": null,
      "outputs": []
    },
    {
      "cell_type": "code",
      "metadata": {
        "id": "FY_aUumpexcp",
        "colab": {
          "base_uri": "https://localhost:8080/",
          "height": 1000
        },
        "outputId": "a73a62c2-ea46-4eee-b209-1ca62c9a984c"
      },
      "source": [
        "nn_model = build_model(X_train, output_size=2, neurons = 32)\n",
        "# model output is next price normalised to 10th previous closing price\n",
        "# train model on data\n",
        "# note: eth_history contains information on the training error per epoch\n",
        "nn_history = nn_model.fit(X_train, Y_train,\n",
        "                            epochs=50, batch_size=256, verbose=1,  validation_data=(X_test, Y_test),shuffle=True)"
      ],
      "execution_count": null,
      "outputs": [
        {
          "output_type": "stream",
          "text": [
            "Train on 40973 samples, validate on 4553 samples\n",
            "Epoch 1/50\n",
            "40973/40973 [==============================] - 13s 314us/step - loss: 0.4701 - acc: 0.5279 - mean_pred: 0.2650 - val_loss: 0.4665 - val_acc: 0.5148 - val_mean_pred: 0.3484\n",
            "Epoch 2/50\n",
            "40973/40973 [==============================] - 12s 282us/step - loss: 0.4089 - acc: 0.6385 - mean_pred: 0.3944 - val_loss: 0.4039 - val_acc: 0.6501 - val_mean_pred: 0.4177\n",
            "Epoch 3/50\n",
            "40973/40973 [==============================] - 12s 283us/step - loss: 0.3759 - acc: 0.6888 - mean_pred: 0.4134 - val_loss: 0.3931 - val_acc: 0.6600 - val_mean_pred: 0.3717\n",
            "Epoch 4/50\n",
            "40973/40973 [==============================] - 12s 282us/step - loss: 0.3677 - acc: 0.6941 - mean_pred: 0.4166 - val_loss: 0.3891 - val_acc: 0.6574 - val_mean_pred: 0.4103\n",
            "Epoch 5/50\n",
            "40973/40973 [==============================] - 12s 283us/step - loss: 0.3632 - acc: 0.6964 - mean_pred: 0.4120 - val_loss: 0.3925 - val_acc: 0.6591 - val_mean_pred: 0.4556\n",
            "Epoch 6/50\n",
            "40973/40973 [==============================] - 12s 283us/step - loss: 0.3606 - acc: 0.7005 - mean_pred: 0.4138 - val_loss: 0.3867 - val_acc: 0.6611 - val_mean_pred: 0.4120\n",
            "Epoch 7/50\n",
            "40973/40973 [==============================] - 12s 282us/step - loss: 0.3580 - acc: 0.6999 - mean_pred: 0.4167 - val_loss: 0.3843 - val_acc: 0.6646 - val_mean_pred: 0.4081\n",
            "Epoch 8/50\n",
            "40973/40973 [==============================] - 12s 282us/step - loss: 0.3564 - acc: 0.7003 - mean_pred: 0.4176 - val_loss: 0.3850 - val_acc: 0.6600 - val_mean_pred: 0.4389\n",
            "Epoch 9/50\n",
            "40973/40973 [==============================] - 12s 282us/step - loss: 0.3547 - acc: 0.7024 - mean_pred: 0.4194 - val_loss: 0.3856 - val_acc: 0.6635 - val_mean_pred: 0.4449\n",
            "Epoch 10/50\n",
            "40973/40973 [==============================] - 12s 283us/step - loss: 0.3546 - acc: 0.7020 - mean_pred: 0.4168 - val_loss: 0.3812 - val_acc: 0.6655 - val_mean_pred: 0.4005\n",
            "Epoch 11/50\n",
            "40973/40973 [==============================] - 12s 282us/step - loss: 0.3534 - acc: 0.7045 - mean_pred: 0.4201 - val_loss: 0.3818 - val_acc: 0.6655 - val_mean_pred: 0.4182\n",
            "Epoch 12/50\n",
            "40973/40973 [==============================] - 12s 281us/step - loss: 0.3513 - acc: 0.7044 - mean_pred: 0.4210 - val_loss: 0.3798 - val_acc: 0.6655 - val_mean_pred: 0.4170\n",
            "Epoch 13/50\n",
            "40973/40973 [==============================] - 12s 281us/step - loss: 0.3506 - acc: 0.7050 - mean_pred: 0.4224 - val_loss: 0.3806 - val_acc: 0.6646 - val_mean_pred: 0.4132\n",
            "Epoch 14/50\n",
            "40973/40973 [==============================] - 12s 282us/step - loss: 0.3497 - acc: 0.7038 - mean_pred: 0.4231 - val_loss: 0.3773 - val_acc: 0.6673 - val_mean_pred: 0.4204\n",
            "Epoch 15/50\n",
            "40973/40973 [==============================] - 12s 283us/step - loss: 0.3482 - acc: 0.7051 - mean_pred: 0.4250 - val_loss: 0.3765 - val_acc: 0.6664 - val_mean_pred: 0.4279\n",
            "Epoch 16/50\n",
            "40973/40973 [==============================] - 12s 283us/step - loss: 0.3473 - acc: 0.7049 - mean_pred: 0.4255 - val_loss: 0.3745 - val_acc: 0.6716 - val_mean_pred: 0.4131\n",
            "Epoch 17/50\n",
            "40973/40973 [==============================] - 12s 281us/step - loss: 0.3467 - acc: 0.7068 - mean_pred: 0.4282 - val_loss: 0.3759 - val_acc: 0.6673 - val_mean_pred: 0.4300\n",
            "Epoch 18/50\n",
            "40973/40973 [==============================] - 12s 282us/step - loss: 0.3451 - acc: 0.7052 - mean_pred: 0.4277 - val_loss: 0.3755 - val_acc: 0.6716 - val_mean_pred: 0.4458\n",
            "Epoch 19/50\n",
            "40973/40973 [==============================] - 12s 282us/step - loss: 0.3442 - acc: 0.7060 - mean_pred: 0.4307 - val_loss: 0.3781 - val_acc: 0.6690 - val_mean_pred: 0.4689\n",
            "Epoch 20/50\n",
            "40973/40973 [==============================] - 11s 281us/step - loss: 0.3432 - acc: 0.7064 - mean_pred: 0.4294 - val_loss: 0.3732 - val_acc: 0.6657 - val_mean_pred: 0.4301\n",
            "Epoch 21/50\n",
            "40973/40973 [==============================] - 12s 281us/step - loss: 0.3426 - acc: 0.7059 - mean_pred: 0.4336 - val_loss: 0.3717 - val_acc: 0.6694 - val_mean_pred: 0.4359\n",
            "Epoch 22/50\n",
            "40973/40973 [==============================] - 12s 281us/step - loss: 0.3411 - acc: 0.7071 - mean_pred: 0.4322 - val_loss: 0.3713 - val_acc: 0.6675 - val_mean_pred: 0.4192\n",
            "Epoch 23/50\n",
            "40973/40973 [==============================] - 12s 283us/step - loss: 0.3399 - acc: 0.7079 - mean_pred: 0.4347 - val_loss: 0.3708 - val_acc: 0.6679 - val_mean_pred: 0.4536\n",
            "Epoch 24/50\n",
            "40973/40973 [==============================] - 11s 280us/step - loss: 0.3389 - acc: 0.7078 - mean_pred: 0.4383 - val_loss: 0.3686 - val_acc: 0.6716 - val_mean_pred: 0.4418\n",
            "Epoch 25/50\n",
            "40973/40973 [==============================] - 12s 281us/step - loss: 0.3376 - acc: 0.7091 - mean_pred: 0.4379 - val_loss: 0.3694 - val_acc: 0.6637 - val_mean_pred: 0.4266\n",
            "Epoch 26/50\n",
            "40973/40973 [==============================] - 12s 281us/step - loss: 0.3363 - acc: 0.7100 - mean_pred: 0.4400 - val_loss: 0.3697 - val_acc: 0.6642 - val_mean_pred: 0.4428\n",
            "Epoch 27/50\n",
            "40973/40973 [==============================] - 12s 281us/step - loss: 0.3355 - acc: 0.7078 - mean_pred: 0.4403 - val_loss: 0.3660 - val_acc: 0.6692 - val_mean_pred: 0.4322\n",
            "Epoch 28/50\n",
            "40973/40973 [==============================] - 12s 282us/step - loss: 0.3342 - acc: 0.7094 - mean_pred: 0.4421 - val_loss: 0.3660 - val_acc: 0.6679 - val_mean_pred: 0.4448\n",
            "Epoch 29/50\n",
            "40973/40973 [==============================] - 12s 281us/step - loss: 0.3336 - acc: 0.7088 - mean_pred: 0.4434 - val_loss: 0.3645 - val_acc: 0.6714 - val_mean_pred: 0.4447\n",
            "Epoch 30/50\n",
            "40973/40973 [==============================] - 12s 282us/step - loss: 0.3324 - acc: 0.7097 - mean_pred: 0.4427 - val_loss: 0.3643 - val_acc: 0.6732 - val_mean_pred: 0.4418\n",
            "Epoch 31/50\n",
            "40973/40973 [==============================] - 11s 279us/step - loss: 0.3312 - acc: 0.7079 - mean_pred: 0.4476 - val_loss: 0.3630 - val_acc: 0.6688 - val_mean_pred: 0.4510\n",
            "Epoch 32/50\n",
            "40973/40973 [==============================] - 12s 281us/step - loss: 0.3305 - acc: 0.7080 - mean_pred: 0.4494 - val_loss: 0.3610 - val_acc: 0.6697 - val_mean_pred: 0.4339\n",
            "Epoch 33/50\n",
            "40973/40973 [==============================] - 11s 280us/step - loss: 0.3294 - acc: 0.7093 - mean_pred: 0.4485 - val_loss: 0.3587 - val_acc: 0.6716 - val_mean_pred: 0.4530\n",
            "Epoch 34/50\n",
            "40973/40973 [==============================] - 11s 279us/step - loss: 0.3283 - acc: 0.7105 - mean_pred: 0.4526 - val_loss: 0.3610 - val_acc: 0.6719 - val_mean_pred: 0.4379\n",
            "Epoch 35/50\n",
            "40973/40973 [==============================] - 11s 280us/step - loss: 0.3277 - acc: 0.7101 - mean_pred: 0.4518 - val_loss: 0.3575 - val_acc: 0.6776 - val_mean_pred: 0.4518\n",
            "Epoch 36/50\n",
            "40973/40973 [==============================] - 11s 280us/step - loss: 0.3264 - acc: 0.7096 - mean_pred: 0.4521 - val_loss: 0.3574 - val_acc: 0.6712 - val_mean_pred: 0.4547\n",
            "Epoch 37/50\n",
            "40973/40973 [==============================] - 12s 281us/step - loss: 0.3256 - acc: 0.7102 - mean_pred: 0.4543 - val_loss: 0.3553 - val_acc: 0.6732 - val_mean_pred: 0.4507\n",
            "Epoch 38/50\n",
            "40973/40973 [==============================] - 11s 280us/step - loss: 0.3255 - acc: 0.7100 - mean_pred: 0.4548 - val_loss: 0.3604 - val_acc: 0.6662 - val_mean_pred: 0.4610\n",
            "Epoch 39/50\n",
            "40973/40973 [==============================] - 11s 280us/step - loss: 0.3241 - acc: 0.7112 - mean_pred: 0.4563 - val_loss: 0.3576 - val_acc: 0.6670 - val_mean_pred: 0.4627\n",
            "Epoch 40/50\n",
            "40973/40973 [==============================] - 11s 281us/step - loss: 0.3228 - acc: 0.7115 - mean_pred: 0.4575 - val_loss: 0.3534 - val_acc: 0.6692 - val_mean_pred: 0.4518\n",
            "Epoch 41/50\n",
            "40973/40973 [==============================] - 11s 280us/step - loss: 0.3226 - acc: 0.7107 - mean_pred: 0.4609 - val_loss: 0.3545 - val_acc: 0.6760 - val_mean_pred: 0.4654\n",
            "Epoch 42/50\n",
            "40973/40973 [==============================] - 11s 280us/step - loss: 0.3222 - acc: 0.7090 - mean_pred: 0.4623 - val_loss: 0.3550 - val_acc: 0.6666 - val_mean_pred: 0.4596\n",
            "Epoch 43/50\n",
            "40973/40973 [==============================] - 11s 279us/step - loss: 0.3205 - acc: 0.7116 - mean_pred: 0.4628 - val_loss: 0.3522 - val_acc: 0.6756 - val_mean_pred: 0.4512\n",
            "Epoch 44/50\n",
            "40973/40973 [==============================] - 11s 280us/step - loss: 0.3196 - acc: 0.7111 - mean_pred: 0.4624 - val_loss: 0.3529 - val_acc: 0.6778 - val_mean_pred: 0.4489\n",
            "Epoch 45/50\n",
            "40973/40973 [==============================] - 11s 279us/step - loss: 0.3199 - acc: 0.7106 - mean_pred: 0.4643 - val_loss: 0.3523 - val_acc: 0.6697 - val_mean_pred: 0.4702\n",
            "Epoch 46/50\n",
            "40973/40973 [==============================] - 11s 280us/step - loss: 0.3182 - acc: 0.7122 - mean_pred: 0.4666 - val_loss: 0.3551 - val_acc: 0.6686 - val_mean_pred: 0.4616\n",
            "Epoch 47/50\n",
            "40973/40973 [==============================] - 11s 280us/step - loss: 0.3170 - acc: 0.7117 - mean_pred: 0.4664 - val_loss: 0.3486 - val_acc: 0.6754 - val_mean_pred: 0.4753\n",
            "Epoch 48/50\n",
            "40973/40973 [==============================] - 12s 283us/step - loss: 0.3169 - acc: 0.7119 - mean_pred: 0.4705 - val_loss: 0.3521 - val_acc: 0.6653 - val_mean_pred: 0.4734\n",
            "Epoch 49/50\n",
            "40973/40973 [==============================] - 11s 280us/step - loss: 0.3155 - acc: 0.7121 - mean_pred: 0.4696 - val_loss: 0.3504 - val_acc: 0.6741 - val_mean_pred: 0.4720\n",
            "Epoch 50/50\n",
            "40973/40973 [==============================] - 12s 282us/step - loss: 0.3149 - acc: 0.7117 - mean_pred: 0.4716 - val_loss: 0.3511 - val_acc: 0.6694 - val_mean_pred: 0.4629\n"
          ],
          "name": "stdout"
        }
      ]
    },
    {
      "cell_type": "code",
      "metadata": {
        "id": "MGURXxNMexcs",
        "colab": {
          "base_uri": "https://localhost:8080/",
          "height": 269
        },
        "outputId": "77af3f3e-f5fc-4a5c-ac2e-d71b8b9274a6"
      },
      "source": [
        "nn_model.summary()"
      ],
      "execution_count": null,
      "outputs": [
        {
          "output_type": "stream",
          "text": [
            "_________________________________________________________________\n",
            "Layer (type)                 Output Shape              Param #   \n",
            "=================================================================\n",
            "lstm_5 (LSTM)                (None, 32)                4864      \n",
            "_________________________________________________________________\n",
            "dropout_5 (Dropout)          (None, 32)                0         \n",
            "_________________________________________________________________\n",
            "dense_5 (Dense)              (None, 2)                 66        \n",
            "_________________________________________________________________\n",
            "activation_5 (Activation)    (None, 2)                 0         \n",
            "=================================================================\n",
            "Total params: 4,930\n",
            "Trainable params: 4,930\n",
            "Non-trainable params: 0\n",
            "_________________________________________________________________\n"
          ],
          "name": "stdout"
        }
      ]
    },
    {
      "cell_type": "code",
      "metadata": {
        "id": "n4wGBS9iexcu",
        "colab": {
          "base_uri": "https://localhost:8080/",
          "height": 50
        },
        "outputId": "3686b5f3-428b-460e-9bdd-b6385db2b7b2"
      },
      "source": [
        "acc = nn_model.evaluate(X_test, Y_test, batch_size=16)\n",
        "print('Test accuracy:', acc)"
      ],
      "execution_count": null,
      "outputs": [
        {
          "output_type": "stream",
          "text": [
            "4553/4553 [==============================] - 7s 2ms/step\n",
            "('Test accuracy:', [0.3511478917535363, 0.6694487151525164, 0.46290524976478153])\n"
          ],
          "name": "stdout"
        }
      ]
    },
    {
      "cell_type": "markdown",
      "metadata": {
        "id": "KtZChnbjM7Pe"
      },
      "source": [
        "**Test Accuracy at 66.94%**"
      ]
    },
    {
      "cell_type": "code",
      "metadata": {
        "id": "ZjbCSSL-excv",
        "colab": {
          "base_uri": "https://localhost:8080/",
          "height": 295
        },
        "outputId": "1f403c24-9d20-49ca-adf8-354473e15ca0"
      },
      "source": [
        "#Plotting training data loss and validation data loss\n",
        "plt.plot(nn_history.history['acc'], label = 'trained data')\n",
        "plt.plot(nn_history.history['val_acc'], label = 'validated data')\n",
        "plt.legend()\n",
        "plt.xlabel('Epochs')\n",
        "plt.ylabel('Accuracy')\n",
        "plt.title('Measure of accuracy')\n",
        "plt.show()"
      ],
      "execution_count": null,
      "outputs": [
        {
          "output_type": "display_data",
          "data": {
            "image/png": "[encoded data removed]",
            "text/plain": [
              "<Figure size 432x288 with 1 Axes>"
            ]
          },
          "metadata": {
            "tags": []
          }
        }
      ]
    },
    {
      "cell_type": "code",
      "metadata": {
        "id": "LIc4QKwnexcx",
        "colab": {
          "base_uri": "https://localhost:8080/",
          "height": 295
        },
        "outputId": "13758710-f1cd-40b4-8896-79dab6d9b1cd"
      },
      "source": [
        "#plateau:\n",
        "plt.plot(nn_history.history['loss'], label = 'training curve')\n",
        "plt.plot(nn_history.history['val_loss'], label = 'testing curve')\n",
        "plt.legend()\n",
        "plt.xlabel('Epochs')\n",
        "plt.ylabel('Training loss')\n",
        "plt.title('Measure of plateau')\n",
        "plt.show()"
      ],
      "execution_count": null,
      "outputs": [
        {
          "output_type": "display_data",
          "data": {
            "image/png": "[encoded data removed]",
            "text/plain": [
              "<Figure size 432x288 with 1 Axes>"
            ]
          },
          "metadata": {
            "tags": []
          }
        }
      ]
    },
    {
      "cell_type": "markdown",
      "metadata": {
        "id": "EIhOphWUexcz"
      },
      "source": [
        "**USE GRU NETWORK ARCHITECTURE**"
      ]
    },
    {
      "cell_type": "markdown",
      "metadata": {
        "id": "PLvZFqtSNmEl"
      },
      "source": [
        "**Created a GRU network in Keras and then run it for some time. Here I haven't performed much parameter tuning. Trained for 20 epochs on relu, mae and adam.**\n"
      ]
    },
    {
      "cell_type": "code",
      "metadata": {
        "id": "WW-taS5fexcz",
        "colab": {
          "base_uri": "https://localhost:8080/",
          "height": 706
        },
        "outputId": "97e4c55a-c4f6-422c-8c23-ac83a8c869de"
      },
      "source": [
        "def mean_pred(X_test, Y_test):\n",
        "    return K.mean(Y_test)\n",
        "\n",
        "def build_model(inputs, output_size, neurons, activ_func=\"relu\",\n",
        "                dropout=0.10, loss=\"mae\", optimizer=\"adam\"):\n",
        "\n",
        "    model = Sequential()\n",
        "\n",
        "    model.add(GRU(neurons, input_shape=(WINDOW,EMB_SIZE)))\n",
        "    model.add(Dropout(dropout))\n",
        "    model.add(Dense(units=output_size))\n",
        "    model.add(Activation(activ_func))\n",
        "\n",
        "    model.compile(loss=loss, optimizer=optimizer, metrics=['accuracy', mean_pred])\n",
        "    return model\n",
        "\n",
        "nn_model = build_model(X_train, output_size=2, neurons = 32)\n",
        "# model output is next price normalised to 10th previous closing price\n",
        "# train model on data\n",
        "# note: eth_history contains information on the training error per epoch\n",
        "nn_history = nn_model.fit(X_train, Y_train,\n",
        "                            epochs=20, batch_size=256, verbose=1,  validation_data=(X_test, Y_test),shuffle=True)"
      ],
      "execution_count": null,
      "outputs": [
        {
          "output_type": "stream",
          "text": [
            "Train on 40973 samples, validate on 4553 samples\n",
            "Epoch 1/20\n",
            "40973/40973 [==============================] - 11s 273us/step - loss: 0.4955 - acc: 0.4835 - mean_pred: 0.1472 - val_loss: 0.4840 - val_acc: 0.4968 - val_mean_pred: 0.1995\n",
            "Epoch 2/20\n",
            "40973/40973 [==============================] - 10s 238us/step - loss: 0.4567 - acc: 0.5254 - mean_pred: 0.2413 - val_loss: 0.4425 - val_acc: 0.5678 - val_mean_pred: 0.2791\n",
            "Epoch 3/20\n",
            "40973/40973 [==============================] - 10s 240us/step - loss: 0.3961 - acc: 0.6640 - mean_pred: 0.4123 - val_loss: 0.4014 - val_acc: 0.6503 - val_mean_pred: 0.4085\n",
            "Epoch 4/20\n",
            "40973/40973 [==============================] - 10s 240us/step - loss: 0.3748 - acc: 0.6900 - mean_pred: 0.4206 - val_loss: 0.3931 - val_acc: 0.6565 - val_mean_pred: 0.3948\n",
            "Epoch 5/20\n",
            "40973/40973 [==============================] - 10s 239us/step - loss: 0.3682 - acc: 0.6939 - mean_pred: 0.4198 - val_loss: 0.3895 - val_acc: 0.6618 - val_mean_pred: 0.3986\n",
            "Epoch 6/20\n",
            "40973/40973 [==============================] - 10s 241us/step - loss: 0.3649 - acc: 0.6967 - mean_pred: 0.4194 - val_loss: 0.3871 - val_acc: 0.6611 - val_mean_pred: 0.3965\n",
            "Epoch 7/20\n",
            "40973/40973 [==============================] - 10s 241us/step - loss: 0.3624 - acc: 0.6987 - mean_pred: 0.4217 - val_loss: 0.3847 - val_acc: 0.6662 - val_mean_pred: 0.4177\n",
            "Epoch 8/20\n",
            "40973/40973 [==============================] - 10s 239us/step - loss: 0.3603 - acc: 0.6984 - mean_pred: 0.4205 - val_loss: 0.3848 - val_acc: 0.6644 - val_mean_pred: 0.4161\n",
            "Epoch 9/20\n",
            "40973/40973 [==============================] - 10s 238us/step - loss: 0.3577 - acc: 0.7025 - mean_pred: 0.4224 - val_loss: 0.3841 - val_acc: 0.6644 - val_mean_pred: 0.4176\n",
            "Epoch 10/20\n",
            "40973/40973 [==============================] - 10s 241us/step - loss: 0.3564 - acc: 0.7037 - mean_pred: 0.4231 - val_loss: 0.3823 - val_acc: 0.6692 - val_mean_pred: 0.4058\n",
            "Epoch 11/20\n",
            "40973/40973 [==============================] - 10s 240us/step - loss: 0.3549 - acc: 0.7027 - mean_pred: 0.4226 - val_loss: 0.3819 - val_acc: 0.6637 - val_mean_pred: 0.4337\n",
            "Epoch 12/20\n",
            "40973/40973 [==============================] - 10s 240us/step - loss: 0.3543 - acc: 0.7020 - mean_pred: 0.4240 - val_loss: 0.3830 - val_acc: 0.6642 - val_mean_pred: 0.4379\n",
            "Epoch 13/20\n",
            "40973/40973 [==============================] - 10s 239us/step - loss: 0.3530 - acc: 0.7022 - mean_pred: 0.4282 - val_loss: 0.3796 - val_acc: 0.6705 - val_mean_pred: 0.4311\n",
            "Epoch 14/20\n",
            "40973/40973 [==============================] - 10s 240us/step - loss: 0.3516 - acc: 0.7049 - mean_pred: 0.4264 - val_loss: 0.3797 - val_acc: 0.6708 - val_mean_pred: 0.4255\n",
            "Epoch 15/20\n",
            "40973/40973 [==============================] - 10s 240us/step - loss: 0.3502 - acc: 0.7065 - mean_pred: 0.4315 - val_loss: 0.3794 - val_acc: 0.6626 - val_mean_pred: 0.4357\n",
            "Epoch 16/20\n",
            "40973/40973 [==============================] - 10s 239us/step - loss: 0.3495 - acc: 0.7054 - mean_pred: 0.4311 - val_loss: 0.3804 - val_acc: 0.6657 - val_mean_pred: 0.4371\n",
            "Epoch 17/20\n",
            "40973/40973 [==============================] - 10s 238us/step - loss: 0.3490 - acc: 0.7056 - mean_pred: 0.4307 - val_loss: 0.3781 - val_acc: 0.6686 - val_mean_pred: 0.4404\n",
            "Epoch 18/20\n",
            "40973/40973 [==============================] - 10s 239us/step - loss: 0.3481 - acc: 0.7049 - mean_pred: 0.4319 - val_loss: 0.3771 - val_acc: 0.6690 - val_mean_pred: 0.4177\n",
            "Epoch 19/20\n",
            "40973/40973 [==============================] - 10s 240us/step - loss: 0.3468 - acc: 0.7066 - mean_pred: 0.4323 - val_loss: 0.3762 - val_acc: 0.6692 - val_mean_pred: 0.4254\n",
            "Epoch 20/20\n",
            "40973/40973 [==============================] - 10s 237us/step - loss: 0.3464 - acc: 0.7061 - mean_pred: 0.4361 - val_loss: 0.3760 - val_acc: 0.6681 - val_mean_pred: 0.4441\n"
          ],
          "name": "stdout"
        }
      ]
    },
    {
      "cell_type": "code",
      "metadata": {
        "id": "nkBH3ldoexc1",
        "outputId": "6512d357-c9c4-4a7d-b0e6-bd583d2d9a84"
      },
      "source": [
        "nn_model.summary()"
      ],
      "execution_count": null,
      "outputs": [
        {
          "output_type": "stream",
          "text": [
            "_________________________________________________________________\n",
            "Layer (type)                 Output Shape              Param #   \n",
            "=================================================================\n",
            "gru_1 (GRU)                  (None, 32)                3648      \n",
            "_________________________________________________________________\n",
            "dropout_3 (Dropout)          (None, 32)                0         \n",
            "_________________________________________________________________\n",
            "dense_3 (Dense)              (None, 2)                 66        \n",
            "_________________________________________________________________\n",
            "activation_3 (Activation)    (None, 2)                 0         \n",
            "=================================================================\n",
            "Total params: 3,714\n",
            "Trainable params: 3,714\n",
            "Non-trainable params: 0\n",
            "_________________________________________________________________\n"
          ],
          "name": "stdout"
        }
      ]
    },
    {
      "cell_type": "code",
      "metadata": {
        "id": "HWJ6nWL2exc3",
        "colab": {
          "base_uri": "https://localhost:8080/",
          "height": 50
        },
        "outputId": "7592b54f-49c6-445c-9e47-6db1ca059d1f"
      },
      "source": [
        "acc = nn_model.evaluate(X_test, Y_test, batch_size=16)\n",
        "print('Test accuracy:', acc)"
      ],
      "execution_count": null,
      "outputs": [
        {
          "output_type": "stream",
          "text": [
            "4553/4553 [==============================] - 6s 1ms/step\n",
            "('Test accuracy:', [0.3759548671555053, 0.6681309027080611, 0.444116572992843])\n"
          ],
          "name": "stdout"
        }
      ]
    },
    {
      "cell_type": "markdown",
      "metadata": {
        "id": "bs7cYRpWOAD3"
      },
      "source": [
        "Accuracy at 66.81%"
      ]
    },
    {
      "cell_type": "code",
      "metadata": {
        "id": "nsqjOzT4exc4",
        "colab": {
          "base_uri": "https://localhost:8080/",
          "height": 295
        },
        "outputId": "70f98b23-a2c9-46a7-834d-0ee0f30374dd"
      },
      "source": [
        "#Plotting training data loss and validation data loss\n",
        "plt.plot(nn_history.history['acc'], label = 'trained data')\n",
        "plt.plot(nn_history.history['val_acc'], label = 'validated data')\n",
        "plt.legend()\n",
        "plt.xlabel('Epochs')\n",
        "plt.ylabel('Accuracy')\n",
        "plt.title('Measure of accuracy')\n",
        "plt.show()"
      ],
      "execution_count": null,
      "outputs": [
        {
          "output_type": "display_data",
          "data": {
            "image/png": "[encoded data removed]",
            "text/plain": [
              "<Figure size 432x288 with 1 Axes>"
            ]
          },
          "metadata": {
            "tags": []
          }
        }
      ]
    },
    {
      "cell_type": "markdown",
      "metadata": {
        "id": "0tQ7wviSOGj5"
      },
      "source": [
        "**A great model for both accuracy and loss. GRU does a good job like LSTM network.**"
      ]
    },
    {
      "cell_type": "code",
      "metadata": {
        "id": "dZtwP6JBexc6",
        "colab": {
          "base_uri": "https://localhost:8080/",
          "height": 295
        },
        "outputId": "9df25e66-180f-402e-98f1-32849e434ae2"
      },
      "source": [
        "plt.plot(nn_history.history['loss'], label = 'training curve')\n",
        "plt.plot(nn_history.history['val_loss'], label = 'testing curve')\n",
        "plt.legend()\n",
        "plt.xlabel('Epochs')\n",
        "plt.ylabel('Training loss')\n",
        "plt.title('Measure of plateau')\n",
        "plt.show()"
      ],
      "execution_count": null,
      "outputs": [
        {
          "output_type": "display_data",
          "data": {
            "image/png": "[encoded data removed]",
            "text/plain": [
              "<Figure size 432x288 with 1 Axes>"
            ]
          },
          "metadata": {
            "tags": []
          }
        }
      ]
    },
    {
      "cell_type": "markdown",
      "metadata": {
        "id": "h-O2_vEtOUkq"
      },
      "source": [
        "#**CONCLUSIONS:**\n",
        "\n",
        "**I found that LSTM and GRU can predict Closing prices of Amazon Data on an average of 65% of the time(best model at 75% worst at 58%) if you normalize the data, stack input data and perform hyperparameter tuning.**\n"
      ]
    }
  ]
}